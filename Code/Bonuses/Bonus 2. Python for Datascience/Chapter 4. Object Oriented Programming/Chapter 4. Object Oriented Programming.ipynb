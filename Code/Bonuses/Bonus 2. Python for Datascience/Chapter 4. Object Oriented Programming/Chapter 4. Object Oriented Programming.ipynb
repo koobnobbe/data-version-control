{
 "cells": [
  {
   "cell_type": "markdown",
   "metadata": {},
   "source": [
    "# Simple Class"
   ]
  },
  {
   "cell_type": "code",
   "execution_count": 1,
   "metadata": {},
   "outputs": [],
   "source": [
    "class Cat():\n",
    "    '''Class that abstracts cats'''\n",
    "    name = \"\"\n",
    "    spicies = \"\"\n",
    "    age = 0"
   ]
  },
  {
   "cell_type": "code",
   "execution_count": 2,
   "metadata": {},
   "outputs": [],
   "source": [
    "cat1 = Cat()\n",
    "cat1.name = \"Djole\"\n",
    "cat1.spicies = \"Siamise\"\n",
    "cat1.age = 2\n",
    "\n",
    "cat2 = Cat()\n",
    "cat2.name = \"Bole\"\n",
    "cat2.spicies = \"Persian\"\n",
    "cat2.age = 3"
   ]
  },
  {
   "cell_type": "code",
   "execution_count": 3,
   "metadata": {},
   "outputs": [
    {
     "name": "stdout",
     "output_type": "stream",
     "text": [
      "****** CAT 1 ******\n",
      "<__main__.Cat object at 0x000002C30CA70388>\n",
      "Djole\n",
      "Siamise\n",
      "2\n",
      "****** CAT 2 ******\n",
      "<__main__.Cat object at 0x000002C30CA703C8>\n",
      "Bole\n",
      "Persian\n",
      "3\n"
     ]
    }
   ],
   "source": [
    "print('****** CAT 1 ******')\n",
    "print(cat1)\n",
    "print(cat1.name)\n",
    "print(cat1.spicies)\n",
    "print(cat1.age)\n",
    "\n",
    "print('****** CAT 2 ******')\n",
    "print(cat2)\n",
    "print(cat2.name)\n",
    "print(cat2.spicies)\n",
    "print(cat2.age)"
   ]
  },
  {
   "cell_type": "markdown",
   "metadata": {},
   "source": [
    "# Constructor"
   ]
  },
  {
   "cell_type": "code",
   "execution_count": 4,
   "metadata": {},
   "outputs": [],
   "source": [
    "class Cat():\n",
    "    '''Class that abstracts cats'''\n",
    "\n",
    "    def __init__(self, name, spicies, age):\n",
    "        self.name = name\n",
    "        self.spicies = spicies\n",
    "        self.age = age"
   ]
  },
  {
   "cell_type": "code",
   "execution_count": 5,
   "metadata": {},
   "outputs": [],
   "source": [
    "cat1 = Cat(\"Djole\", \"Siamise\", 2)\n",
    "\n",
    "cat2 = Cat(name=\"Bole\", spicies=\"Persian\", age=3)"
   ]
  },
  {
   "cell_type": "code",
   "execution_count": 6,
   "metadata": {},
   "outputs": [
    {
     "name": "stdout",
     "output_type": "stream",
     "text": [
      "****** CAT 1 ******\n",
      "<__main__.Cat object at 0x000002C30CA72208>\n",
      "Djole\n",
      "Siamise\n",
      "2\n",
      "****** CAT 2 ******\n",
      "<__main__.Cat object at 0x000002C30CA721C8>\n",
      "Bole\n",
      "Persian\n",
      "3\n"
     ]
    }
   ],
   "source": [
    "print('****** CAT 1 ******')\n",
    "print(cat1)\n",
    "print(cat1.name)\n",
    "print(cat1.spicies)\n",
    "print(cat1.age)\n",
    "\n",
    "print('****** CAT 2 ******')\n",
    "print(cat2)\n",
    "print(cat2.name)\n",
    "print(cat2.spicies)\n",
    "print(cat2.age)"
   ]
  },
  {
   "cell_type": "markdown",
   "metadata": {},
   "source": [
    "# Methods"
   ]
  },
  {
   "cell_type": "code",
   "execution_count": 7,
   "metadata": {},
   "outputs": [],
   "source": [
    "class Cat():\n",
    "    '''Class that abstracts cats'''\n",
    "    def __init__(self, name, spicies, age):\n",
    "        self.name = name\n",
    "        self.spicies = spicies\n",
    "        self.age = age\n",
    "\n",
    "    def __str__(self):\n",
    "        return f'Name: {self.name} | Spicies: {self.spicies} | Age: {self.age}'\n",
    "\n",
    "    def speak(self):\n",
    "        print(f'{self.name} say meeeeeeooooow')"
   ]
  },
  {
   "cell_type": "code",
   "execution_count": 8,
   "metadata": {},
   "outputs": [
    {
     "name": "stdout",
     "output_type": "stream",
     "text": [
      "Djole say meeeeeeooooow\n",
      "Name: Djole | Spicies: Siamise | Age: 2\n",
      "Bole say meeeeeeooooow\n",
      "Name: Bole | Spicies: Persian | Age: 3\n"
     ]
    }
   ],
   "source": [
    "cat1 = Cat(\"Djole\", \"Siamise\", 2)\n",
    "cat1.speak()\n",
    "print(cat1)\n",
    "\n",
    "cat2 = Cat(name=\"Bole\", spicies=\"Persian\", age=3)\n",
    "cat2.speak()\n",
    "print(cat2)"
   ]
  },
  {
   "cell_type": "markdown",
   "metadata": {},
   "source": [
    "# Get-Set Methods"
   ]
  },
  {
   "cell_type": "code",
   "execution_count": 9,
   "metadata": {},
   "outputs": [],
   "source": [
    "class Cat():\n",
    "    '''Class that abstracts cats'''\n",
    "    def __init__(self, name, spicies, age=0):\n",
    "        self.name = name\n",
    "        self.spicies = spicies\n",
    "        self.set_age(age)\n",
    "\n",
    "    def __str__(self):\n",
    "        return f'Name: {self.name} | Spicies: {self.spicies} | Age: {self.age}'\n",
    "\n",
    "    def get_age(self):\n",
    "        return self._age\n",
    "\n",
    "    def set_age(self, value):\n",
    "        if value < 0:\n",
    "            raise ValueError(\"Age can not be less than zero!\")\n",
    "\n",
    "        self._age = value\n",
    "\n",
    "    def speak(self):\n",
    "        print(f'{self.name} say meeeeeeooooow')"
   ]
  },
  {
   "cell_type": "code",
   "execution_count": 11,
   "metadata": {},
   "outputs": [
    {
     "name": "stdout",
     "output_type": "stream",
     "text": [
      "11\n",
      "15\n"
     ]
    }
   ],
   "source": [
    "cat1 = Cat(\"Djole\", \"Siamise\", 2)\n",
    "\n",
    "cat1.set_age(11)\n",
    "print(cat1.get_age())\n",
    "\n",
    "cat2 = Cat(name=\"Bole\", spicies=\"Persian\", age=3)\n",
    "cat2.set_age(15)\n",
    "print(cat2.get_age())"
   ]
  },
  {
   "cell_type": "markdown",
   "metadata": {},
   "source": [
    "# Properties"
   ]
  },
  {
   "cell_type": "code",
   "execution_count": 1,
   "metadata": {},
   "outputs": [],
   "source": [
    "class Cat():\n",
    "    '''Class that abstracts cats'''\n",
    "    def __init__(self, name, spicies, age=0):\n",
    "        self.name = name\n",
    "        self.spicies = spicies\n",
    "        self.age = age\n",
    "\n",
    "    def __str__(self):\n",
    "        return f'Name: {self.name} | Spicies: {self.spicies} | Age: {self.age}'\n",
    "\n",
    "    def get_age(self):\n",
    "        return self._age\n",
    "\n",
    "    def set_age(self, value):\n",
    "        if value < 0:\n",
    "            raise ValueError(\"Age can not be less than zero!\")\n",
    "\n",
    "        self._age = value\n",
    "        \n",
    "    def del_age(self):\n",
    "        self._age = 0\n",
    "    \n",
    "    age = property(get_age, set_age, del_age)\n",
    "\n",
    "    def speak(self):\n",
    "        print(f'{self.name} say meeeeeeooooow')"
   ]
  },
  {
   "cell_type": "code",
   "execution_count": 3,
   "metadata": {},
   "outputs": [
    {
     "name": "stdout",
     "output_type": "stream",
     "text": [
      "11\n",
      "15\n",
      "13\n"
     ]
    }
   ],
   "source": [
    "cat1 = Cat(\"Djole\", \"Siamise\", 2)\n",
    "\n",
    "cat1.age = 11\n",
    "print(cat1.age)\n",
    "\n",
    "cat2 = Cat(name=\"Bole\", spicies=\"Persian\", age=3)\n",
    "\n",
    "cat2.age = 15\n",
    "print(cat2.age)"
   ]
  },
  {
   "cell_type": "markdown",
   "metadata": {},
   "source": [
    "# Extending the class with more methods"
   ]
  },
  {
   "cell_type": "code",
   "execution_count": 14,
   "metadata": {},
   "outputs": [],
   "source": [
    "class Cat():\n",
    "    '''Class that abstracts cats'''\n",
    "    def __init__(self, name, spicies, age):\n",
    "        self.name = name\n",
    "        self.spicies = spicies\n",
    "        self.age = age\n",
    "\n",
    "    def __str__(self):\n",
    "        return f'Name: {self.name} | Spicies: {self.spicies} | Age: {self.age}'\n",
    "\n",
    "    def get_age(self):\n",
    "        return self._age\n",
    "\n",
    "    def set_age(self, value):\n",
    "        if value < 0:\n",
    "            raise ValueError(\"Age can not be less than zero!\")\n",
    "\n",
    "        self._age = value\n",
    "    \n",
    "    age = property(get_age, set_age)\n",
    "\n",
    "    def speak(self):\n",
    "        print(f'{self.name} say meeeeeeooooow')\n",
    "    \n",
    "    def birthday(self):\n",
    "        self.age += 1\n",
    "\n",
    "    def jump(self):\n",
    "        print(f'{self.name} jumped {2/self.age} meters!')"
   ]
  },
  {
   "cell_type": "code",
   "execution_count": 15,
   "metadata": {},
   "outputs": [
    {
     "name": "stdout",
     "output_type": "stream",
     "text": [
      "*****************\n",
      "Djole say meeeeeeooooow\n",
      "Name: Djole | Spicies: Siamise | Age: 3\n",
      "Djole jumped 0.6666666666666666 meters!\n",
      "*****************\n",
      "Bole say meeeeeeooooow\n",
      "Name: Bole | Spicies: Persian | Age: 4\n",
      "Bole jumped 0.5 meters!\n"
     ]
    }
   ],
   "source": [
    "print('*****************')\n",
    "cat1 = Cat(\"Djole\", \"Siamise\", 2)\n",
    "cat1.speak()\n",
    "cat1.birthday()\n",
    "print(cat1)\n",
    "cat1.jump()\n",
    "\n",
    "print('*****************')\n",
    "cat2 = Cat(name=\"Bole\", spicies=\"Persian\", age=3)\n",
    "cat2.speak()\n",
    "cat2.birthday()\n",
    "print(cat2)\n",
    "cat2.jump()"
   ]
  },
  {
   "cell_type": "markdown",
   "metadata": {},
   "source": [
    "# Inheritance"
   ]
  },
  {
   "cell_type": "code",
   "execution_count": 17,
   "metadata": {},
   "outputs": [],
   "source": [
    "class SuperCat(Cat):\n",
    "    def speak(self):\n",
    "        print(f\"{self.name} shoots lasers from the eyes!\")\n",
    "    \n",
    "    def jump(self):\n",
    "        super().jump()\n",
    "        print('...and then flies away! Woooosh!')"
   ]
  },
  {
   "cell_type": "code",
   "execution_count": 18,
   "metadata": {},
   "outputs": [
    {
     "name": "stdout",
     "output_type": "stream",
     "text": [
      "Name: Boško | Spicies: Domaća mačka | Age: 100\n",
      "Boško shoots lasers from the eyes!\n",
      "Boško jumped 0.02 meters!\n",
      "...and then flies away! Woooosh!\n"
     ]
    }
   ],
   "source": [
    "sc = SuperCat(\"Boško\", \"Domaća mačka\", 100)\n",
    "print(sc)\n",
    "sc.speak()\n",
    "sc.jump()"
   ]
  },
  {
   "cell_type": "markdown",
   "metadata": {},
   "source": [
    "# Abstract Class"
   ]
  },
  {
   "cell_type": "code",
   "execution_count": 19,
   "metadata": {},
   "outputs": [],
   "source": [
    "from abc import ABC, abstractmethod\n",
    "\n",
    "class Cat(ABC):\n",
    "    '''Class that abstracts cats'''\n",
    "    def __init__(self, name, spicies, age):\n",
    "        self.name = name\n",
    "        self.spicies = spicies\n",
    "        self.age = age\n",
    "\n",
    "    def __str__(self):\n",
    "        return f'Name: {self.name} | Spicies: {self.spicies} | Age: {self.age}'\n",
    "\n",
    "    def speak(self):\n",
    "        print(f'{self.name} say meeeeeeooooow')\n",
    "    \n",
    "    def birthday(self):\n",
    "        self.age += 1\n",
    "\n",
    "    def jump(self):\n",
    "        print(f'{self.name} jumped {2/self.age} meters!')\n",
    "\n",
    "    @abstractmethod\n",
    "    def purr(self):\n",
    "        pass"
   ]
  },
  {
   "cell_type": "code",
   "execution_count": 21,
   "metadata": {},
   "outputs": [],
   "source": [
    "class SuperCat(Cat):\n",
    "    def speak(self):\n",
    "        print(f\"{self.name} shoots lasers from the eyes!\")\n",
    "    \n",
    "    def jump(self):\n",
    "        super().jump()\n",
    "        print('...and then flies away! Woooosh!')\n",
    "\n",
    "    def purr(self):\n",
    "        print('You will never catch me alive muhuhahahahah')"
   ]
  },
  {
   "cell_type": "code",
   "execution_count": 22,
   "metadata": {},
   "outputs": [
    {
     "name": "stdout",
     "output_type": "stream",
     "text": [
      "Name: Boško | Spicies: Domaća mačka | Age: 100\n",
      "Boško shoots lasers from the eyes!\n",
      "Boško jumped 0.02 meters!\n",
      "...and then flies away! Woooosh!\n",
      "You will never catch me alive muhuhahahahah\n"
     ]
    }
   ],
   "source": [
    "sc = SuperCat(\"Boško\", \"Domaća mačka\", 100)\n",
    "print(sc)\n",
    "sc.speak()\n",
    "sc.jump()\n",
    "sc.purr()"
   ]
  }
 ],
 "metadata": {
  "kernelspec": {
   "display_name": "Python 3",
   "language": "python",
   "name": "python3"
  },
  "language_info": {
   "codemirror_mode": {
    "name": "ipython",
    "version": 3
   },
   "file_extension": ".py",
   "mimetype": "text/x-python",
   "name": "python",
   "nbconvert_exporter": "python",
   "pygments_lexer": "ipython3",
   "version": "3.7.6"
  }
 },
 "nbformat": 4,
 "nbformat_minor": 4
}
