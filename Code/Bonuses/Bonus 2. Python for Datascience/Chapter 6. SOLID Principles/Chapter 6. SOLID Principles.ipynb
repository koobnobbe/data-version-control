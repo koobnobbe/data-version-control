{
 "cells": [
  {
   "cell_type": "code",
   "execution_count": 1,
   "metadata": {},
   "outputs": [],
   "source": [
    "import turtle\n",
    "import os.path\n",
    "from abc import ABC, abstractmethod"
   ]
  },
  {
   "cell_type": "markdown",
   "metadata": {},
   "source": [
    "# Single Responsibility Principle"
   ]
  },
  {
   "cell_type": "markdown",
   "metadata": {},
   "source": [
    "### Violates Single Responsibility Principle"
   ]
  },
  {
   "cell_type": "code",
   "execution_count": 2,
   "metadata": {},
   "outputs": [],
   "source": [
    "class Rectangle(object):\n",
    "    def __init__(self, width, height):\n",
    "        self._width = width\n",
    "        self._height = height\n",
    "        \n",
    "    def surface(self):\n",
    "        return self._width * self._height\n",
    "    \n",
    "    def scope(self):\n",
    "        return 2*(self._width + self._height)\n",
    "    \n",
    "    def draw(self):\n",
    "        t = turtle.Turtle()\n",
    "        t.forward(self._width)\n",
    "        t.left(90)\n",
    "        t.forward(self._height)\n",
    "        t.left(90)\n",
    "        t.forward(self._width)\n",
    "        t.left(90)\n",
    "        t.forward(self._height)\n",
    "        t.left(90)"
   ]
  },
  {
   "cell_type": "markdown",
   "metadata": {},
   "source": [
    "### Doesn't Violate Single Responsibility Principle"
   ]
  },
  {
   "cell_type": "code",
   "execution_count": 3,
   "metadata": {},
   "outputs": [],
   "source": [
    "class Rectangle(object):\n",
    "    def __init__(self, width, height):\n",
    "        self.width = width\n",
    "        self.height = height\n",
    "        \n",
    "    def surface(self):\n",
    "        return self.width * self.height\n",
    "    \n",
    "    def scope(self):\n",
    "        return 2*(self.width + self.height)\n",
    "\n",
    "class DrawRectangle(object):\n",
    "    def __init__(self):\n",
    "        self.t = turtle.Turtle()\n",
    "        \n",
    "    def draw(self, rec):\n",
    "        self.t.forward(rec.width)\n",
    "        self.self.t.left(90)\n",
    "        self.t.forward(rec.height)\n",
    "        self.t.left(90)\n",
    "        self.t.forward(rec.width)\n",
    "        self.t.left(90)\n",
    "        self.t.forward(rec.height)\n",
    "        self.t.left(90)"
   ]
  },
  {
   "cell_type": "markdown",
   "metadata": {},
   "source": [
    "# Open-Close Principle"
   ]
  },
  {
   "cell_type": "markdown",
   "metadata": {},
   "source": [
    "### Violates Open-Close Principle"
   ]
  },
  {
   "cell_type": "code",
   "execution_count": 4,
   "metadata": {},
   "outputs": [],
   "source": [
    "class Logger(object):\n",
    "    def __init__(self, destination):\n",
    "        self._destination = destination\n",
    "        \n",
    "    def log(self, message):\n",
    "        if self._destination == \"console\":\n",
    "            print(message)\n",
    "        elif self._destination == \"file\":\n",
    "            f = open(\"log.txt\",\"w+\")\n",
    "            f.write(message)            "
   ]
  },
  {
   "cell_type": "markdown",
   "metadata": {},
   "source": [
    "### Doesn't Violate Open-Close Principle"
   ]
  },
  {
   "cell_type": "code",
   "execution_count": 5,
   "metadata": {},
   "outputs": [],
   "source": [
    "class BaseLogger(ABC):\n",
    "    def __init__(self):\n",
    "        super(BaseLogger, self).__init__()\n",
    "        \n",
    "    @abstractmethod\n",
    "    def log(self, message):\n",
    "        pass\n",
    "\n",
    "class FileLogger(BaseLogger):\n",
    "    def __init__(self, filename):\n",
    "        self.filename = filename\n",
    "        super(FileLogger, self).__init__()\n",
    "    \n",
    "    def log(self, message):\n",
    "        f = open(self.filename,\"w+\")\n",
    "        f.write(message)\n",
    "            \n",
    "class ConsoleLogger(BaseLogger):\n",
    "    def __init__(self):\n",
    "        super(ConsoleLogger, self).__init__()\n",
    "    \n",
    "    def log(self, message):\n",
    "        print(message)"
   ]
  },
  {
   "cell_type": "code",
   "execution_count": 6,
   "metadata": {},
   "outputs": [
    {
     "name": "stdout",
     "output_type": "stream",
     "text": [
      "SOLID principles are cool!\n"
     ]
    }
   ],
   "source": [
    "log = FileLogger(\"opencloseprincipe.txt\")\n",
    "log.log(\"SOLID principles are cool!\")\n",
    "\n",
    "log = ConsoleLogger()\n",
    "log.log(\"SOLID principles are cool!\")\n"
   ]
  },
  {
   "cell_type": "markdown",
   "metadata": {},
   "source": [
    "# Liskov Substitution Principle"
   ]
  },
  {
   "cell_type": "markdown",
   "metadata": {},
   "source": [
    "### Violates Liskov Substitution Principle"
   ]
  },
  {
   "cell_type": "code",
   "execution_count": 7,
   "metadata": {},
   "outputs": [],
   "source": [
    "class Rectangle(object):\n",
    "    def __init__(self, width, height):\n",
    "        self.width = width\n",
    "        self.height = height\n",
    "        \n",
    "    def surface(self):\n",
    "        return self.width * self.height\n",
    "    \n",
    "    def scope(self):\n",
    "        return 2*(self.width + self.height)"
   ]
  },
  {
   "cell_type": "code",
   "execution_count": 8,
   "metadata": {},
   "outputs": [],
   "source": [
    "class Square(Rectangle):\n",
    "    def __init__(self, side):\n",
    "        super(Square, self).__init__(side, side)\n",
    "        \n",
    "    def surface(self):\n",
    "        return self.width * self.width\n",
    "    \n",
    "    def scope(self):\n",
    "        return 4*self.width"
   ]
  },
  {
   "cell_type": "markdown",
   "metadata": {},
   "source": [
    "### Doesn't Violate Liskov Substitution Principle"
   ]
  },
  {
   "cell_type": "code",
   "execution_count": 9,
   "metadata": {},
   "outputs": [],
   "source": [
    "class Rectangle(object):\n",
    "    def __init__(self, width, height):\n",
    "        self.width = width\n",
    "        self.height = height\n",
    "        \n",
    "    def surface(self):\n",
    "        return self.width * self.height\n",
    "    \n",
    "    def scope(self):\n",
    "        return 2*(self.width + self.height)\n",
    "    \n",
    "class Square(Rectangle):\n",
    "    def _init__(self, side):\n",
    "        super(Square, self).__init(side, side)"
   ]
  },
  {
   "cell_type": "markdown",
   "metadata": {},
   "source": [
    "# Inversion Saggregation Principle"
   ]
  },
  {
   "cell_type": "markdown",
   "metadata": {},
   "source": [
    "### Violates Inversion Saggregation Principle"
   ]
  },
  {
   "cell_type": "code",
   "execution_count": 10,
   "metadata": {},
   "outputs": [],
   "source": [
    "class BaseLogger(ABC):\n",
    "    def __init__(self):\n",
    "        super(BaseLogger, self).__init__()\n",
    "        \n",
    "    @abstractmethod\n",
    "    def log(self, message):\n",
    "        pass\n",
    "    \n",
    "    @abstractmethod\n",
    "    def check_if_file_exists(self):\n",
    "        pass\n",
    "\n",
    "class FileLogger(BaseLogger):\n",
    "    def __init__(self, filename):\n",
    "        self.filename = filename\n",
    "        super(FileLogger, self).__init__()\n",
    "    \n",
    "    def log(self, message):\n",
    "        f = open(self.filename,\"w+\")\n",
    "        f.write(message)\n",
    "    \n",
    "    def check_if_file_exists(self):\n",
    "        return os.path.exits(self.filename)\n",
    "            \n",
    "class ConsoleLogger(BaseLogger):\n",
    "    def __init__(self):\n",
    "        super(ConsoleLogger, self).__init__()\n",
    "    \n",
    "    def log(self, message):\n",
    "        print(message)\n",
    "        \n",
    "    def check_if_file_exists(self):\n",
    "        pass"
   ]
  },
  {
   "cell_type": "markdown",
   "metadata": {},
   "source": [
    "### Doesn't Violate Inversion Saggregation Principle"
   ]
  },
  {
   "cell_type": "code",
   "execution_count": 11,
   "metadata": {},
   "outputs": [],
   "source": [
    "class BaseLogger(ABC):\n",
    "    def __init__(self):\n",
    "        super(BaseLogger, self).__init__()\n",
    "        \n",
    "    @abstractmethod\n",
    "    def log(self, message):\n",
    "        pass\n",
    "\n",
    "class BaseFileLogger(ABC):\n",
    "    def __init__(self):\n",
    "        super(BaseFileLogger, self).__init__()\n",
    "        \n",
    "    @abstractmethod\n",
    "    def log(self, message):\n",
    "        pass\n",
    "    \n",
    "    @abstractmethod\n",
    "    def check_if_file_exists(self):\n",
    "        pass\n",
    "\n",
    "class FileLogger(BaseFileLogger):\n",
    "    def __init__(self, filename):\n",
    "        self.filename = filename\n",
    "        super(FileLogger, self).__init__()\n",
    "    \n",
    "    def log(self, message):\n",
    "        f = open(self.filename,\"w+\")\n",
    "        f.write(message)\n",
    "    \n",
    "    def check_if_file_exists(self):\n",
    "        return os.path.exits(self.filename)\n",
    "            \n",
    "class ConsoleLogger(BaseLogger):\n",
    "    def __init__(self):\n",
    "        super(ConsoleLogger, self).__init__()\n",
    "    \n",
    "    def log(self, message):\n",
    "        print(message)"
   ]
  },
  {
   "cell_type": "markdown",
   "metadata": {},
   "source": [
    "# Dependancy Inversion Principle"
   ]
  },
  {
   "cell_type": "markdown",
   "metadata": {},
   "source": [
    "### Violates Dependancy Inversion Principle"
   ]
  },
  {
   "cell_type": "code",
   "execution_count": 12,
   "metadata": {},
   "outputs": [],
   "source": [
    "class BaseLogger(ABC):\n",
    "    def __init__(self):\n",
    "        super(BaseLogger, self).__init__()\n",
    "        \n",
    "    @abstractmethod\n",
    "    def log(self, message):\n",
    "        pass\n",
    "\n",
    "class FileLogger(BaseLogger):\n",
    "    def __init__(self, filename):\n",
    "        self.filename = filename\n",
    "        super(FileLogger, self).__init__()\n",
    "    \n",
    "    def log(self, message):\n",
    "        f = open(self.filename,\"w+\")\n",
    "        f.write(message)\n",
    "    \n",
    "class ConsoleLogger(BaseLogger):\n",
    "    def __init__(self):\n",
    "        super(ConsoleLogger, self).__init__()\n",
    "    \n",
    "    def log(self, message):\n",
    "        print(message)\n",
    "\n",
    "class EventSourcing(object):\n",
    "    def __init__(self, logger):\n",
    "        # Violates DIP, because this class depends on ConsoleLogger.\n",
    "        self.logger = ConsoleLogger()\n",
    "        \n",
    "    def trace(self, message):\n",
    "        self.logger.log(message)"
   ]
  },
  {
   "cell_type": "markdown",
   "metadata": {},
   "source": [
    "### Doesn't Violate Dependancy Inversion Principle"
   ]
  },
  {
   "cell_type": "code",
   "execution_count": 14,
   "metadata": {},
   "outputs": [
    {
     "name": "stdout",
     "output_type": "stream",
     "text": [
      "awesome!\n"
     ]
    }
   ],
   "source": [
    "class BaseLogger(ABC):\n",
    "    def __init__(self):\n",
    "        super(BaseLogger, self).__init__()\n",
    "        \n",
    "    @abstractmethod\n",
    "    def log(self, message):\n",
    "        pass\n",
    "\n",
    "class FileLogger(BaseLogger):\n",
    "    def __init__(self, filename):\n",
    "        self.filename = filename\n",
    "        super(FileLogger, self).__init__()\n",
    "    \n",
    "    def log(self, message):\n",
    "        f = open(self.filename,\"w+\")\n",
    "        f.write(message)\n",
    "            \n",
    "class ConsoleLogger(BaseLogger):\n",
    "    def __init__(self):\n",
    "        super(ConsoleLogger, self).__init__()\n",
    "    \n",
    "    def log(self, message):\n",
    "        print(message)\n",
    "        \n",
    "class EventSourcing(object):\n",
    "    def __init__(self, logger):\n",
    "        # Dependancy Injection used.\n",
    "        self.logger = logger\n",
    "        \n",
    "    def trace(self, message):\n",
    "        self.logger.log(message)\n",
    "        \n",
    "        \n",
    "consoleSourcing = EventSourcing(ConsoleLogger())\n",
    "fileSourcing = EventSourcing(FileLogger(\"dependancyinversionprinciple.txt\"))\n",
    "\n",
    "consoleSourcing.trace(\"awesome!\")\n",
    "fileSourcing.trace(\"awesome!\")"
   ]
  }
 ],
 "metadata": {
  "kernelspec": {
   "display_name": "Python 3",
   "language": "python",
   "name": "python3"
  },
  "language_info": {
   "codemirror_mode": {
    "name": "ipython",
    "version": 3
   },
   "file_extension": ".py",
   "mimetype": "text/x-python",
   "name": "python",
   "nbconvert_exporter": "python",
   "pygments_lexer": "ipython3",
   "version": "3.7.6"
  }
 },
 "nbformat": 4,
 "nbformat_minor": 2
}
