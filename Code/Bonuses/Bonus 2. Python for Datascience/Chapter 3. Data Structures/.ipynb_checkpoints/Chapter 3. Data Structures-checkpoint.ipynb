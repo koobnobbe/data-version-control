{
 "cells": [
  {
   "cell_type": "markdown",
   "metadata": {},
   "source": [
    "# Lists"
   ]
  },
  {
   "cell_type": "code",
   "execution_count": 1,
   "metadata": {},
   "outputs": [
    {
     "name": "stdout",
     "output_type": "stream",
     "text": [
      "Integers list: [1, 2, 3]\n",
      "Strings list: ['Python', 'is', 'awesome']\n",
      "Mixed data list: [3.14, 'thon', 'is', 'awesome']\n",
      "Nested list: [3.14, 'thon', 'is', 'awesome', [1, 2, [3]]]\n"
     ]
    }
   ],
   "source": [
    "# Empty list\n",
    "my_list = []\n",
    "\n",
    "# List of integers\n",
    "my_list = [1, 2, 3]\n",
    "print(f\"Integers list: {my_list}\")\n",
    "\n",
    "# List of strings\n",
    "my_list = [\"Python\", \"is\", \"awesome\"]\n",
    "print(f\"Strings list: {my_list}\")\n",
    "\n",
    "# List with mixed data\n",
    "my_list = [3.14, \"thon\", \"is\", \"awesome\"]\n",
    "print(f\"Mixed data list: {my_list}\")\n",
    "\n",
    "# List with nested data\n",
    "my_list = [3.14, \"thon\", \"is\", \"awesome\", [1, 2, [3]]]\n",
    "print(f\"Nested list: {my_list}\")"
   ]
  },
  {
   "cell_type": "markdown",
   "metadata": {},
   "source": [
    "## Reading from the list using indexes"
   ]
  },
  {
   "cell_type": "code",
   "execution_count": 2,
   "metadata": {},
   "outputs": [
    {
     "name": "stdout",
     "output_type": "stream",
     "text": [
      "Fourth item is 44\n",
      "Sublist: [33, 44]\n",
      "Negative index: 44\n"
     ]
    }
   ],
   "source": [
    "# Accessing Data via index\n",
    "my_list = [11, 22, 33, 44]\n",
    "print(f\"Fourth item is {my_list[3]}\")\n",
    "\n",
    "# Indexing for sublists\n",
    "my_list = [11, 22, 33, 44]\n",
    "my_sublist = my_list[2:]\n",
    "print(f\"Sublist: {my_sublist}\")\n",
    "\n",
    "# Negative index\n",
    "my_list = [11, 22, 33, 44]\n",
    "print(f\"Negative index: {my_list[-1]}\")"
   ]
  },
  {
   "cell_type": "markdown",
   "metadata": {},
   "source": [
    "## Adding new elements"
   ]
  },
  {
   "cell_type": "code",
   "execution_count": 3,
   "metadata": {},
   "outputs": [
    {
     "name": "stdout",
     "output_type": "stream",
     "text": [
      "Added new element list is now [11, 22, 33, 44, 55]\n"
     ]
    }
   ],
   "source": [
    "my_list = [11, 22, 33, 44]\n",
    "my_list.append(55)\n",
    "print(f\"Added new element list is now {my_list}\")"
   ]
  },
  {
   "cell_type": "markdown",
   "metadata": {},
   "source": [
    "## Quering"
   ]
  },
  {
   "cell_type": "code",
   "execution_count": 4,
   "metadata": {},
   "outputs": [
    {
     "name": "stdout",
     "output_type": "stream",
     "text": [
      "The number 22 is in the list: True\n",
      "Numbers in the list that are larger than 44: [44]\n",
      "Index of the number 22 is 1\n"
     ]
    }
   ],
   "source": [
    "# Searching\n",
    "my_list = [11, 22, 33, 44]\n",
    "print(f\"The number 22 is in the list: {22 in my_list}\")\n",
    "\n",
    "# Filtering\n",
    "my_list = [11, 22, 33, 44]\n",
    "matches = [x for x in my_list if x > 33]\n",
    "print(f\"Numbers in the list that are larger than 44: {matches}\")\n",
    "\n",
    "# Getting the index of the element\n",
    "if (22 in my_list):\n",
    "    print(f\"Index of the number 22 is {my_list.index(22)}\")"
   ]
  },
  {
   "cell_type": "markdown",
   "metadata": {},
   "source": [
    "## Remove elements"
   ]
  },
  {
   "cell_type": "code",
   "execution_count": 5,
   "metadata": {},
   "outputs": [
    {
     "name": "stdout",
     "output_type": "stream",
     "text": [
      "List after removal: [11, 22, 44]\n"
     ]
    }
   ],
   "source": [
    "my_list = [11, 22, 33, 44]\n",
    "my_list.remove(33)\n",
    "print(f\"List after removal: {my_list}\")"
   ]
  },
  {
   "cell_type": "markdown",
   "metadata": {},
   "source": [
    "# Iterators"
   ]
  },
  {
   "cell_type": "code",
   "execution_count": 2,
   "metadata": {},
   "outputs": [
    {
     "name": "stdout",
     "output_type": "stream",
     "text": [
      "Iterator: 11\n",
      "Iterator: 22\n",
      "Iterator 2: 11\n",
      "Iterator 2: 22\n",
      "Iterator 2: 33\n",
      "Iterator 2: 44\n"
     ]
    }
   ],
   "source": [
    "my_list = [11, 22, 33, 44]\n",
    "my_iter = iter(my_list)\n",
    "print(f\"Iterator: {next(my_iter)}\")\n",
    "print(f\"Iterator: {next(my_iter)}\")\n",
    "\n",
    "for element in my_list:\n",
    "    print(f\"Iterator 2: {element}\")"
   ]
  },
  {
   "cell_type": "markdown",
   "metadata": {},
   "source": [
    "## Enumeration"
   ]
  },
  {
   "cell_type": "code",
   "execution_count": 7,
   "metadata": {},
   "outputs": [
    {
     "name": "stdout",
     "output_type": "stream",
     "text": [
      "Index: 0 Value: 11\n",
      "Index: 1 Value: 22\n",
      "Index: 2 Value: 33\n",
      "Index: 3 Value: 44\n"
     ]
    }
   ],
   "source": [
    "my_list = [11, 22, 33, 44]\n",
    "for index, value in enumerate(my_list):\n",
    "    print(f\"Index: {index} Value: {value}\")"
   ]
  },
  {
   "cell_type": "markdown",
   "metadata": {},
   "source": [
    "# Generators"
   ]
  },
  {
   "cell_type": "code",
   "execution_count": 8,
   "metadata": {},
   "outputs": [
    {
     "name": "stdout",
     "output_type": "stream",
     "text": [
      "0 1 2 3 4 5 6 "
     ]
    }
   ],
   "source": [
    "def sequence(treshold):\n",
    "    num = 0\n",
    "    while num < treshold:\n",
    "        yield num\n",
    "        num += 1\n",
    "\n",
    "for i in sequence(7):\n",
    "    print(i, end=\" \")"
   ]
  },
  {
   "cell_type": "markdown",
   "metadata": {},
   "source": [
    "# Dictionaries "
   ]
  },
  {
   "cell_type": "code",
   "execution_count": 9,
   "metadata": {},
   "outputs": [
    {
     "name": "stdout",
     "output_type": "stream",
     "text": [
      "Dictionary: {'first': 1, 'second': 2, 'third': 3}\n"
     ]
    }
   ],
   "source": [
    "my_dictionary = {\n",
    "    'first': 1,\n",
    "    'second': 2,\n",
    "    'third': 3\n",
    "}\n",
    "\n",
    "print(f\"Dictionary: {my_dictionary}\")"
   ]
  },
  {
   "cell_type": "markdown",
   "metadata": {},
   "source": [
    "## Access value by the key"
   ]
  },
  {
   "cell_type": "code",
   "execution_count": 10,
   "metadata": {},
   "outputs": [
    {
     "name": "stdout",
     "output_type": "stream",
     "text": [
      "Third element has value: 3\n"
     ]
    }
   ],
   "source": [
    "print(f\"Third element has value: {my_dictionary['third']}\")"
   ]
  },
  {
   "cell_type": "markdown",
   "metadata": {},
   "source": [
    "## Add new element"
   ]
  },
  {
   "cell_type": "code",
   "execution_count": 11,
   "metadata": {},
   "outputs": [
    {
     "name": "stdout",
     "output_type": "stream",
     "text": [
      "Dictionary after adding new element: {'first': 1, 'second': 2, 'third': 3, 'forth': 4}\n"
     ]
    }
   ],
   "source": [
    "my_dictionary[\"forth\"] = 4\n",
    "print(f\"Dictionary after adding new element: {my_dictionary}\")"
   ]
  },
  {
   "cell_type": "markdown",
   "metadata": {},
   "source": [
    "## Remove element"
   ]
  },
  {
   "cell_type": "code",
   "execution_count": 12,
   "metadata": {},
   "outputs": [
    {
     "name": "stdout",
     "output_type": "stream",
     "text": [
      "Dictionary after removing an element: {'first': 1, 'second': 2, 'third': 3}\n"
     ]
    }
   ],
   "source": [
    "my_dictionary.pop(\"forth\")\n",
    "print(f\"Dictionary after removing an element: {my_dictionary}\")"
   ]
  },
  {
   "cell_type": "markdown",
   "metadata": {},
   "source": [
    "## Update element"
   ]
  },
  {
   "cell_type": "code",
   "execution_count": 13,
   "metadata": {},
   "outputs": [
    {
     "name": "stdout",
     "output_type": "stream",
     "text": [
      "Dictionary after updating an element: {'first': 1, 'second': 2, 'third': 33}\n"
     ]
    }
   ],
   "source": [
    "my_dictionary[\"third\"] = 33\n",
    "print(f\"Dictionary after updating an element: {my_dictionary}\")"
   ]
  },
  {
   "cell_type": "markdown",
   "metadata": {},
   "source": [
    "# Tuples"
   ]
  },
  {
   "cell_type": "code",
   "execution_count": 15,
   "metadata": {},
   "outputs": [
    {
     "name": "stdout",
     "output_type": "stream",
     "text": [
      "Tuple: (4, 6, 2, 8, 3, 1)\n"
     ]
    }
   ],
   "source": [
    "my_tuple = (4, 6, 2, 8, 3, 1)\n",
    "print(f\"Tuple: {my_tuple}\")"
   ]
  },
  {
   "cell_type": "markdown",
   "metadata": {},
   "source": [
    "## Add element"
   ]
  },
  {
   "cell_type": "code",
   "execution_count": 16,
   "metadata": {},
   "outputs": [
    {
     "name": "stdout",
     "output_type": "stream",
     "text": [
      "Tuple after adding an element: (4, 6, 2, 8, 3, 1, 9)\n"
     ]
    }
   ],
   "source": [
    "my_tuple += (9,)\n",
    "print(f\"Tuple after adding an element: {my_tuple}\")"
   ]
  },
  {
   "cell_type": "markdown",
   "metadata": {},
   "source": [
    "## Remove an element"
   ]
  },
  {
   "cell_type": "code",
   "execution_count": 17,
   "metadata": {},
   "outputs": [
    {
     "name": "stdout",
     "output_type": "stream",
     "text": [
      "Tuple after removing an element: (4, 6, 8, 3, 1, 9)\n"
     ]
    }
   ],
   "source": [
    "my_list = list(my_tuple)\n",
    "my_list.remove(2)\n",
    "my_tuple = tuple(my_list)\n",
    "print(f\"Tuple after removing an element: {my_tuple}\")"
   ]
  }
 ],
 "metadata": {
  "kernelspec": {
   "display_name": "Python 3",
   "language": "python",
   "name": "python3"
  },
  "language_info": {
   "codemirror_mode": {
    "name": "ipython",
    "version": 3
   },
   "file_extension": ".py",
   "mimetype": "text/x-python",
   "name": "python",
   "nbconvert_exporter": "python",
   "pygments_lexer": "ipython3",
   "version": "3.7.6"
  }
 },
 "nbformat": 4,
 "nbformat_minor": 4
}
