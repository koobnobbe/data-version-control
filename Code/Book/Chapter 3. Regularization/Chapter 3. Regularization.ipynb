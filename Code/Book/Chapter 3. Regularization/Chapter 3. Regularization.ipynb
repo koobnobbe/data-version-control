{
 "cells": [
  {
   "cell_type": "markdown",
   "metadata": {},
   "source": [
    "# Regularization"
   ]
  },
  {
   "cell_type": "code",
   "execution_count": 1,
   "metadata": {},
   "outputs": [],
   "source": [
    "import pandas as pd\n",
    "import numpy as np\n",
    "import matplotlib.pyplot as plt\n",
    "from math import sqrt\n",
    "\n",
    "import sklearn.metrics as metrics\n",
    "from sklearn.model_selection import train_test_split\n",
    "from sklearn.linear_model import Lasso, Ridge, ElasticNet, SGDRegressor, LinearRegression\n",
    "from sklearn.preprocessing import StandardScaler\n",
    "from sklearn.pipeline import make_pipeline\n",
    "from sklearn.base import clone"
   ]
  },
  {
   "cell_type": "code",
   "execution_count": 2,
   "metadata": {},
   "outputs": [],
   "source": [
    "# Globals\n",
    "ORANGE = '#F2BE4A'\n",
    "GRAY = '#545453'"
   ]
  },
  {
   "cell_type": "markdown",
   "metadata": {},
   "source": [
    "### Prepare Dataset"
   ]
  },
  {
   "cell_type": "code",
   "execution_count": 3,
   "metadata": {},
   "outputs": [
    {
     "data": {
      "text/html": [
       "<div>\n",
       "<style scoped>\n",
       "    .dataframe tbody tr th:only-of-type {\n",
       "        vertical-align: middle;\n",
       "    }\n",
       "\n",
       "    .dataframe tbody tr th {\n",
       "        vertical-align: top;\n",
       "    }\n",
       "\n",
       "    .dataframe thead th {\n",
       "        text-align: right;\n",
       "    }\n",
       "</style>\n",
       "<table border=\"1\" class=\"dataframe\">\n",
       "  <thead>\n",
       "    <tr style=\"text-align: right;\">\n",
       "      <th></th>\n",
       "      <th>crim</th>\n",
       "      <th>zn</th>\n",
       "      <th>indus</th>\n",
       "      <th>chas</th>\n",
       "      <th>nox</th>\n",
       "      <th>rm</th>\n",
       "      <th>age</th>\n",
       "      <th>dis</th>\n",
       "      <th>rad</th>\n",
       "      <th>tax</th>\n",
       "      <th>ptratio</th>\n",
       "      <th>b</th>\n",
       "      <th>lstat</th>\n",
       "      <th>medv</th>\n",
       "    </tr>\n",
       "  </thead>\n",
       "  <tbody>\n",
       "    <tr>\n",
       "      <th>0</th>\n",
       "      <td>0.00632</td>\n",
       "      <td>18.0</td>\n",
       "      <td>2.31</td>\n",
       "      <td>0</td>\n",
       "      <td>0.538</td>\n",
       "      <td>6.575</td>\n",
       "      <td>65.2</td>\n",
       "      <td>4.0900</td>\n",
       "      <td>1</td>\n",
       "      <td>296</td>\n",
       "      <td>15.3</td>\n",
       "      <td>396.90</td>\n",
       "      <td>4.98</td>\n",
       "      <td>24.0</td>\n",
       "    </tr>\n",
       "    <tr>\n",
       "      <th>1</th>\n",
       "      <td>0.02731</td>\n",
       "      <td>0.0</td>\n",
       "      <td>7.07</td>\n",
       "      <td>0</td>\n",
       "      <td>0.469</td>\n",
       "      <td>6.421</td>\n",
       "      <td>78.9</td>\n",
       "      <td>4.9671</td>\n",
       "      <td>2</td>\n",
       "      <td>242</td>\n",
       "      <td>17.8</td>\n",
       "      <td>396.90</td>\n",
       "      <td>9.14</td>\n",
       "      <td>21.6</td>\n",
       "    </tr>\n",
       "    <tr>\n",
       "      <th>2</th>\n",
       "      <td>0.02729</td>\n",
       "      <td>0.0</td>\n",
       "      <td>7.07</td>\n",
       "      <td>0</td>\n",
       "      <td>0.469</td>\n",
       "      <td>7.185</td>\n",
       "      <td>61.1</td>\n",
       "      <td>4.9671</td>\n",
       "      <td>2</td>\n",
       "      <td>242</td>\n",
       "      <td>17.8</td>\n",
       "      <td>392.83</td>\n",
       "      <td>4.03</td>\n",
       "      <td>34.7</td>\n",
       "    </tr>\n",
       "    <tr>\n",
       "      <th>3</th>\n",
       "      <td>0.03237</td>\n",
       "      <td>0.0</td>\n",
       "      <td>2.18</td>\n",
       "      <td>0</td>\n",
       "      <td>0.458</td>\n",
       "      <td>6.998</td>\n",
       "      <td>45.8</td>\n",
       "      <td>6.0622</td>\n",
       "      <td>3</td>\n",
       "      <td>222</td>\n",
       "      <td>18.7</td>\n",
       "      <td>394.63</td>\n",
       "      <td>2.94</td>\n",
       "      <td>33.4</td>\n",
       "    </tr>\n",
       "    <tr>\n",
       "      <th>4</th>\n",
       "      <td>0.06905</td>\n",
       "      <td>0.0</td>\n",
       "      <td>2.18</td>\n",
       "      <td>0</td>\n",
       "      <td>0.458</td>\n",
       "      <td>7.147</td>\n",
       "      <td>54.2</td>\n",
       "      <td>6.0622</td>\n",
       "      <td>3</td>\n",
       "      <td>222</td>\n",
       "      <td>18.7</td>\n",
       "      <td>396.90</td>\n",
       "      <td>5.33</td>\n",
       "      <td>36.2</td>\n",
       "    </tr>\n",
       "  </tbody>\n",
       "</table>\n",
       "</div>"
      ],
      "text/plain": [
       "      crim    zn  indus  chas    nox     rm   age     dis  rad  tax  ptratio  \\\n",
       "0  0.00632  18.0   2.31     0  0.538  6.575  65.2  4.0900    1  296     15.3   \n",
       "1  0.02731   0.0   7.07     0  0.469  6.421  78.9  4.9671    2  242     17.8   \n",
       "2  0.02729   0.0   7.07     0  0.469  7.185  61.1  4.9671    2  242     17.8   \n",
       "3  0.03237   0.0   2.18     0  0.458  6.998  45.8  6.0622    3  222     18.7   \n",
       "4  0.06905   0.0   2.18     0  0.458  7.147  54.2  6.0622    3  222     18.7   \n",
       "\n",
       "        b  lstat  medv  \n",
       "0  396.90   4.98  24.0  \n",
       "1  396.90   9.14  21.6  \n",
       "2  392.83   4.03  34.7  \n",
       "3  394.63   2.94  33.4  \n",
       "4  396.90   5.33  36.2  "
      ]
     },
     "execution_count": 3,
     "metadata": {},
     "output_type": "execute_result"
    }
   ],
   "source": [
    "data = pd.read_csv('./data/boston_housing.csv')\n",
    "data.head()"
   ]
  },
  {
   "cell_type": "code",
   "execution_count": 4,
   "metadata": {},
   "outputs": [
    {
     "data": {
      "image/png": "[encoded data removed]",
      "text/plain": [
       "<Figure size 792x360 with 1 Axes>"
      ]
     },
     "metadata": {
      "needs_background": "light"
     },
     "output_type": "display_data"
    }
   ],
   "source": [
    "data = data.dropna()\n",
    "\n",
    "X = data['lstat'].values\n",
    "X = X.reshape(-1, 1)\n",
    "\n",
    "y = data['medv'].values\n",
    "\n",
    "X_train, X_test, y_train, y_test = train_test_split(X, y, test_size=0.2, random_state=33)\n",
    "\n",
    "plt.figure(figsize=(11, 5))\n",
    "\n",
    "plt.title(\"Boston Housing Dataset\")\n",
    "plt.xlabel('% lower status of the population')\n",
    "plt.ylabel('Median value')\n",
    "\n",
    "plt.scatter(x = X, y = y, color=ORANGE)\n",
    "plt.show()"
   ]
  },
  {
   "cell_type": "code",
   "execution_count": 5,
   "metadata": {},
   "outputs": [],
   "source": [
    "def print_evaluation_metrics(actual_values, predictions):\n",
    "    print (f'MAE: {metrics.mean_absolute_error(actual_values, predictions)}')\n",
    "    print (f'MSE: {metrics.mean_squared_error(actual_values, predictions)}')\n",
    "    print(f'RMSE: {sqrt(metrics.mean_squared_error(actual_values, predictions))}')\n",
    "    print (f'R Squared: {metrics.r2_score(actual_values, predictions)}')"
   ]
  },
  {
   "cell_type": "code",
   "execution_count": 6,
   "metadata": {},
   "outputs": [
    {
     "name": "stdout",
     "output_type": "stream",
     "text": [
      "MAE: 4.349924284477385\n",
      "MSE: 33.71853518466314\n",
      "RMSE: 5.80676632771314\n",
      "R Squared: 0.5292973354432082\n"
     ]
    },
    {
     "data": {
      "text/html": [
       "<div>\n",
       "<style scoped>\n",
       "    .dataframe tbody tr th:only-of-type {\n",
       "        vertical-align: middle;\n",
       "    }\n",
       "\n",
       "    .dataframe tbody tr th {\n",
       "        vertical-align: top;\n",
       "    }\n",
       "\n",
       "    .dataframe thead th {\n",
       "        text-align: right;\n",
       "    }\n",
       "</style>\n",
       "<table border=\"1\" class=\"dataframe\">\n",
       "  <thead>\n",
       "    <tr style=\"text-align: right;\">\n",
       "      <th></th>\n",
       "      <th>Actual Value</th>\n",
       "      <th>Linear Regression Prediction</th>\n",
       "    </tr>\n",
       "  </thead>\n",
       "  <tbody>\n",
       "    <tr>\n",
       "      <th>0</th>\n",
       "      <td>20.5</td>\n",
       "      <td>17.345491</td>\n",
       "    </tr>\n",
       "    <tr>\n",
       "      <th>1</th>\n",
       "      <td>5.6</td>\n",
       "      <td>8.581341</td>\n",
       "    </tr>\n",
       "    <tr>\n",
       "      <th>2</th>\n",
       "      <td>13.4</td>\n",
       "      <td>12.031481</td>\n",
       "    </tr>\n",
       "    <tr>\n",
       "      <th>3</th>\n",
       "      <td>12.6</td>\n",
       "      <td>18.822707</td>\n",
       "    </tr>\n",
       "    <tr>\n",
       "      <th>4</th>\n",
       "      <td>21.2</td>\n",
       "      <td>25.653589</td>\n",
       "    </tr>\n",
       "    <tr>\n",
       "      <th>...</th>\n",
       "      <td>...</td>\n",
       "      <td>...</td>\n",
       "    </tr>\n",
       "    <tr>\n",
       "      <th>97</th>\n",
       "      <td>25.0</td>\n",
       "      <td>25.395820</td>\n",
       "    </tr>\n",
       "    <tr>\n",
       "      <th>98</th>\n",
       "      <td>19.5</td>\n",
       "      <td>16.621755</td>\n",
       "    </tr>\n",
       "    <tr>\n",
       "      <th>99</th>\n",
       "      <td>19.9</td>\n",
       "      <td>18.971420</td>\n",
       "    </tr>\n",
       "    <tr>\n",
       "      <th>100</th>\n",
       "      <td>15.4</td>\n",
       "      <td>13.855694</td>\n",
       "    </tr>\n",
       "    <tr>\n",
       "      <th>101</th>\n",
       "      <td>21.7</td>\n",
       "      <td>22.233191</td>\n",
       "    </tr>\n",
       "  </tbody>\n",
       "</table>\n",
       "<p>102 rows × 2 columns</p>\n",
       "</div>"
      ],
      "text/plain": [
       "     Actual Value  Linear Regression Prediction\n",
       "0            20.5                     17.345491\n",
       "1             5.6                      8.581341\n",
       "2            13.4                     12.031481\n",
       "3            12.6                     18.822707\n",
       "4            21.2                     25.653589\n",
       "..            ...                           ...\n",
       "97           25.0                     25.395820\n",
       "98           19.5                     16.621755\n",
       "99           19.9                     18.971420\n",
       "100          15.4                     13.855694\n",
       "101          21.7                     22.233191\n",
       "\n",
       "[102 rows x 2 columns]"
      ]
     },
     "execution_count": 6,
     "metadata": {},
     "output_type": "execute_result"
    }
   ],
   "source": [
    "linear_reg = make_pipeline(StandardScaler(), LinearRegression())\n",
    "linear_reg.fit(X_train, y_train)\n",
    "linear_reg_predictions = linear_reg.predict(X_test)\n",
    "\n",
    "print_evaluation_metrics(y_test, linear_reg_predictions)\n",
    "\n",
    "pd.DataFrame({\n",
    "    'Actual Value': y_test,\n",
    "    'Linear Regression Prediction': linear_reg_predictions,\n",
    "})"
   ]
  },
  {
   "cell_type": "code",
   "execution_count": 7,
   "metadata": {},
   "outputs": [
    {
     "data": {
      "image/png": "[encoded data removed]",
      "text/plain": [
       "<Figure size 792x360 with 1 Axes>"
      ]
     },
     "metadata": {
      "needs_background": "light"
     },
     "output_type": "display_data"
    }
   ],
   "source": [
    "plt.figure(figsize=(11, 5))\n",
    "\n",
    "plt.title(\"LinearRegression\")\n",
    "plt.xlabel('% lower status of the population')\n",
    "plt.ylabel('Median value')\n",
    "\n",
    "plt.scatter(x = X, y = y, color=ORANGE)\n",
    "values = np.column_stack((X_test,linear_reg_predictions))\n",
    "values = values[values[:,0].argsort()]\n",
    "plt.plot(values[:,0], values[:,1], color=GRAY)\n",
    "plt.show()"
   ]
  },
  {
   "cell_type": "markdown",
   "metadata": {},
   "source": [
    "## Ridge"
   ]
  },
  {
   "cell_type": "markdown",
   "metadata": {},
   "source": [
    "### Using Sci-Kit Learn"
   ]
  },
  {
   "cell_type": "markdown",
   "metadata": {},
   "source": [
    "#### Alpha = 1"
   ]
  },
  {
   "cell_type": "code",
   "execution_count": 8,
   "metadata": {},
   "outputs": [
    {
     "name": "stdout",
     "output_type": "stream",
     "text": [
      "MAE: 4.346430723361676\n",
      "MSE: 33.66804991954733\n",
      "RMSE: 5.802417592654576\n",
      "R Squared: 0.5300020976364863\n"
     ]
    },
    {
     "data": {
      "text/html": [
       "<div>\n",
       "<style scoped>\n",
       "    .dataframe tbody tr th:only-of-type {\n",
       "        vertical-align: middle;\n",
       "    }\n",
       "\n",
       "    .dataframe tbody tr th {\n",
       "        vertical-align: top;\n",
       "    }\n",
       "\n",
       "    .dataframe thead th {\n",
       "        text-align: right;\n",
       "    }\n",
       "</style>\n",
       "<table border=\"1\" class=\"dataframe\">\n",
       "  <thead>\n",
       "    <tr style=\"text-align: right;\">\n",
       "      <th></th>\n",
       "      <th>Actual Value</th>\n",
       "      <th>Ridge Prediction</th>\n",
       "    </tr>\n",
       "  </thead>\n",
       "  <tbody>\n",
       "    <tr>\n",
       "      <th>0</th>\n",
       "      <td>20.5</td>\n",
       "      <td>17.359049</td>\n",
       "    </tr>\n",
       "    <tr>\n",
       "      <th>1</th>\n",
       "      <td>5.6</td>\n",
       "      <td>8.616538</td>\n",
       "    </tr>\n",
       "    <tr>\n",
       "      <th>2</th>\n",
       "      <td>13.4</td>\n",
       "      <td>12.058160</td>\n",
       "    </tr>\n",
       "    <tr>\n",
       "      <th>3</th>\n",
       "      <td>12.6</td>\n",
       "      <td>18.832617</td>\n",
       "    </tr>\n",
       "    <tr>\n",
       "      <th>4</th>\n",
       "      <td>21.2</td>\n",
       "      <td>25.646633</td>\n",
       "    </tr>\n",
       "    <tr>\n",
       "      <th>...</th>\n",
       "      <td>...</td>\n",
       "      <td>...</td>\n",
       "    </tr>\n",
       "    <tr>\n",
       "      <th>97</th>\n",
       "      <td>25.0</td>\n",
       "      <td>25.389500</td>\n",
       "    </tr>\n",
       "    <tr>\n",
       "      <th>98</th>\n",
       "      <td>19.5</td>\n",
       "      <td>16.637100</td>\n",
       "    </tr>\n",
       "    <tr>\n",
       "      <th>99</th>\n",
       "      <td>19.9</td>\n",
       "      <td>18.980963</td>\n",
       "    </tr>\n",
       "    <tr>\n",
       "      <th>100</th>\n",
       "      <td>15.4</td>\n",
       "      <td>13.877868</td>\n",
       "    </tr>\n",
       "    <tr>\n",
       "      <th>101</th>\n",
       "      <td>21.7</td>\n",
       "      <td>22.234680</td>\n",
       "    </tr>\n",
       "  </tbody>\n",
       "</table>\n",
       "<p>102 rows × 2 columns</p>\n",
       "</div>"
      ],
      "text/plain": [
       "     Actual Value  Ridge Prediction\n",
       "0            20.5         17.359049\n",
       "1             5.6          8.616538\n",
       "2            13.4         12.058160\n",
       "3            12.6         18.832617\n",
       "4            21.2         25.646633\n",
       "..            ...               ...\n",
       "97           25.0         25.389500\n",
       "98           19.5         16.637100\n",
       "99           19.9         18.980963\n",
       "100          15.4         13.877868\n",
       "101          21.7         22.234680\n",
       "\n",
       "[102 rows x 2 columns]"
      ]
     },
     "execution_count": 8,
     "metadata": {},
     "output_type": "execute_result"
    }
   ],
   "source": [
    "ridge_reg = make_pipeline(StandardScaler(), Ridge(alpha=1, solver=\"cholesky\"))\n",
    "ridge_reg.fit(X_train, y_train)\n",
    "ridge_reg_predictions = ridge_reg.predict(X_test)\n",
    "\n",
    "print_evaluation_metrics(y_test, ridge_reg_predictions)\n",
    "\n",
    "pd.DataFrame({\n",
    "    'Actual Value': y_test,\n",
    "    'Ridge Prediction': ridge_reg_predictions,\n",
    "})"
   ]
  },
  {
   "cell_type": "markdown",
   "metadata": {},
   "source": [
    "#### Stohastic Gradient Descent with L2"
   ]
  },
  {
   "cell_type": "code",
   "execution_count": 9,
   "metadata": {},
   "outputs": [
    {
     "name": "stdout",
     "output_type": "stream",
     "text": [
      "MAE: 4.357165500878059\n",
      "MSE: 33.78949776374881\n",
      "RMSE: 5.812873451551204\n",
      "R Squared: 0.5283067148579271\n"
     ]
    },
    {
     "data": {
      "text/html": [
       "<div>\n",
       "<style scoped>\n",
       "    .dataframe tbody tr th:only-of-type {\n",
       "        vertical-align: middle;\n",
       "    }\n",
       "\n",
       "    .dataframe tbody tr th {\n",
       "        vertical-align: top;\n",
       "    }\n",
       "\n",
       "    .dataframe thead th {\n",
       "        text-align: right;\n",
       "    }\n",
       "</style>\n",
       "<table border=\"1\" class=\"dataframe\">\n",
       "  <thead>\n",
       "    <tr style=\"text-align: right;\">\n",
       "      <th></th>\n",
       "      <th>Actual Value</th>\n",
       "      <th>SGD Ridge Prediction</th>\n",
       "    </tr>\n",
       "  </thead>\n",
       "  <tbody>\n",
       "    <tr>\n",
       "      <th>0</th>\n",
       "      <td>20.5</td>\n",
       "      <td>17.339109</td>\n",
       "    </tr>\n",
       "    <tr>\n",
       "      <th>1</th>\n",
       "      <td>5.6</td>\n",
       "      <td>8.547109</td>\n",
       "    </tr>\n",
       "    <tr>\n",
       "      <th>2</th>\n",
       "      <td>13.4</td>\n",
       "      <td>12.008213</td>\n",
       "    </tr>\n",
       "    <tr>\n",
       "      <th>3</th>\n",
       "      <td>12.6</td>\n",
       "      <td>18.821018</td>\n",
       "    </tr>\n",
       "    <tr>\n",
       "      <th>4</th>\n",
       "      <td>21.2</td>\n",
       "      <td>25.673607</td>\n",
       "    </tr>\n",
       "    <tr>\n",
       "      <th>...</th>\n",
       "      <td>...</td>\n",
       "      <td>...</td>\n",
       "    </tr>\n",
       "    <tr>\n",
       "      <th>97</th>\n",
       "      <td>25.0</td>\n",
       "      <td>25.415018</td>\n",
       "    </tr>\n",
       "    <tr>\n",
       "      <th>98</th>\n",
       "      <td>19.5</td>\n",
       "      <td>16.613073</td>\n",
       "    </tr>\n",
       "    <tr>\n",
       "      <th>99</th>\n",
       "      <td>19.9</td>\n",
       "      <td>18.970204</td>\n",
       "    </tr>\n",
       "    <tr>\n",
       "      <th>100</th>\n",
       "      <td>15.4</td>\n",
       "      <td>13.838222</td>\n",
       "    </tr>\n",
       "    <tr>\n",
       "      <th>101</th>\n",
       "      <td>21.7</td>\n",
       "      <td>22.242340</td>\n",
       "    </tr>\n",
       "  </tbody>\n",
       "</table>\n",
       "<p>102 rows × 2 columns</p>\n",
       "</div>"
      ],
      "text/plain": [
       "     Actual Value  SGD Ridge Prediction\n",
       "0            20.5             17.339109\n",
       "1             5.6              8.547109\n",
       "2            13.4             12.008213\n",
       "3            12.6             18.821018\n",
       "4            21.2             25.673607\n",
       "..            ...                   ...\n",
       "97           25.0             25.415018\n",
       "98           19.5             16.613073\n",
       "99           19.9             18.970204\n",
       "100          15.4             13.838222\n",
       "101          21.7             22.242340\n",
       "\n",
       "[102 rows x 2 columns]"
      ]
     },
     "execution_count": 9,
     "metadata": {},
     "output_type": "execute_result"
    }
   ],
   "source": [
    "sgd_ridge_reg = make_pipeline(StandardScaler(), SGDRegressor(penalty=\"l2\"))\n",
    "sgd_ridge_reg.fit(X_train, y_train)\n",
    "sgd_ridge_reg_predictions = sgd_ridge_reg.predict(X_test)\n",
    "\n",
    "print_evaluation_metrics(y_test, sgd_ridge_reg_predictions)\n",
    "\n",
    "pd.DataFrame({\n",
    "    'Actual Value': y_test,\n",
    "    'SGD Ridge Prediction': sgd_ridge_reg_predictions,\n",
    "})"
   ]
  },
  {
   "cell_type": "code",
   "execution_count": 10,
   "metadata": {
    "scrolled": false
   },
   "outputs": [
    {
     "data": {
      "text/plain": [
       "[<matplotlib.lines.Line2D at 0x27f21382408>]"
      ]
     },
     "execution_count": 10,
     "metadata": {},
     "output_type": "execute_result"
    },
    {
     "data": {
      "image/png": "[encoded data removed]",
      "text/plain": [
       "<Figure size 1080x288 with 3 Axes>"
      ]
     },
     "metadata": {
      "needs_background": "light"
     },
     "output_type": "display_data"
    }
   ],
   "source": [
    "fig, (ax1, ax2, ax3) = plt.subplots(1, 3,figsize=(15,4))\n",
    "\n",
    "ax1.scatter(x = X, y = y, color=ORANGE)\n",
    "values = np.column_stack((X_test, linear_reg_predictions))\n",
    "values = values[values[:,0].argsort()]\n",
    "ax1.set_title(\"LinearRegression\")\n",
    "ax1.set_xlabel('% lower status of the population')\n",
    "ax1.set_ylabel('Median value')\n",
    "ax1.plot(values[:,0], values[:,1], color=GRAY)\n",
    "\n",
    "ax2.scatter(x = X, y = y, color=ORANGE)\n",
    "values = np.column_stack((X_test, ridge_reg_predictions))\n",
    "values = values[values[:,0].argsort()]\n",
    "ax2.set_title(\"Ridge Regression\")\n",
    "ax2.set_xlabel('% lower status of the population')\n",
    "ax2.set_ylabel('Median value')\n",
    "ax2.plot(values[:,0], values[:,1], color=GRAY)\n",
    "\n",
    "ax3.scatter(x = X, y = y, color=ORANGE)\n",
    "values = np.column_stack((X_test, sgd_ridge_reg_predictions))\n",
    "values = values[values[:,0].argsort()]\n",
    "ax3.set_title(\"SGD Ridge Regression\")\n",
    "ax3.set_xlabel('% lower status of the population')\n",
    "ax3.set_ylabel('Median value')\n",
    "ax3.plot(values[:,0], values[:,1], color=GRAY)"
   ]
  },
  {
   "cell_type": "markdown",
   "metadata": {},
   "source": [
    "## Lasso"
   ]
  },
  {
   "cell_type": "markdown",
   "metadata": {},
   "source": [
    "### Using Sci-Kit Learn"
   ]
  },
  {
   "cell_type": "code",
   "execution_count": 11,
   "metadata": {},
   "outputs": [
    {
     "name": "stdout",
     "output_type": "stream",
     "text": [
      "MAE: 4.191410465618733\n",
      "MSE: 32.00917258613768\n",
      "RMSE: 5.657664941134079\n",
      "R Squared: 0.5531596273670172\n"
     ]
    },
    {
     "data": {
      "text/html": [
       "<div>\n",
       "<style scoped>\n",
       "    .dataframe tbody tr th:only-of-type {\n",
       "        vertical-align: middle;\n",
       "    }\n",
       "\n",
       "    .dataframe tbody tr th {\n",
       "        vertical-align: top;\n",
       "    }\n",
       "\n",
       "    .dataframe thead th {\n",
       "        text-align: right;\n",
       "    }\n",
       "</style>\n",
       "<table border=\"1\" class=\"dataframe\">\n",
       "  <thead>\n",
       "    <tr style=\"text-align: right;\">\n",
       "      <th></th>\n",
       "      <th>Actual Value</th>\n",
       "      <th>Lasso Prediction</th>\n",
       "    </tr>\n",
       "  </thead>\n",
       "  <tbody>\n",
       "    <tr>\n",
       "      <th>0</th>\n",
       "      <td>20.5</td>\n",
       "      <td>18.143094</td>\n",
       "    </tr>\n",
       "    <tr>\n",
       "      <th>1</th>\n",
       "      <td>5.6</td>\n",
       "      <td>10.652017</td>\n",
       "    </tr>\n",
       "    <tr>\n",
       "      <th>2</th>\n",
       "      <td>13.4</td>\n",
       "      <td>13.600993</td>\n",
       "    </tr>\n",
       "    <tr>\n",
       "      <th>3</th>\n",
       "      <td>12.6</td>\n",
       "      <td>19.405730</td>\n",
       "    </tr>\n",
       "    <tr>\n",
       "      <th>4</th>\n",
       "      <td>21.2</td>\n",
       "      <td>25.244364</td>\n",
       "    </tr>\n",
       "    <tr>\n",
       "      <th>...</th>\n",
       "      <td>...</td>\n",
       "      <td>...</td>\n",
       "    </tr>\n",
       "    <tr>\n",
       "      <th>97</th>\n",
       "      <td>25.0</td>\n",
       "      <td>25.024038</td>\n",
       "    </tr>\n",
       "    <tr>\n",
       "      <th>98</th>\n",
       "      <td>19.5</td>\n",
       "      <td>17.524487</td>\n",
       "    </tr>\n",
       "    <tr>\n",
       "      <th>99</th>\n",
       "      <td>19.9</td>\n",
       "      <td>19.532842</td>\n",
       "    </tr>\n",
       "    <tr>\n",
       "      <th>100</th>\n",
       "      <td>15.4</td>\n",
       "      <td>15.160222</td>\n",
       "    </tr>\n",
       "    <tr>\n",
       "      <th>101</th>\n",
       "      <td>21.7</td>\n",
       "      <td>22.320810</td>\n",
       "    </tr>\n",
       "  </tbody>\n",
       "</table>\n",
       "<p>102 rows × 2 columns</p>\n",
       "</div>"
      ],
      "text/plain": [
       "     Actual Value  Lasso Prediction\n",
       "0            20.5         18.143094\n",
       "1             5.6         10.652017\n",
       "2            13.4         13.600993\n",
       "3            12.6         19.405730\n",
       "4            21.2         25.244364\n",
       "..            ...               ...\n",
       "97           25.0         25.024038\n",
       "98           19.5         17.524487\n",
       "99           19.9         19.532842\n",
       "100          15.4         15.160222\n",
       "101          21.7         22.320810\n",
       "\n",
       "[102 rows x 2 columns]"
      ]
     },
     "execution_count": 11,
     "metadata": {},
     "output_type": "execute_result"
    }
   ],
   "source": [
    "lasso_reg = make_pipeline(StandardScaler(), Lasso(alpha=1))\n",
    "lasso_reg.fit(X_train, y_train)\n",
    "lasso_reg_predictions = lasso_reg.predict(X_test)\n",
    "\n",
    "print_evaluation_metrics(y_test, lasso_reg_predictions)\n",
    "\n",
    "pd.DataFrame({\n",
    "    'Actual Value': y_test,\n",
    "    'Lasso Prediction': lasso_reg_predictions,\n",
    "})"
   ]
  },
  {
   "cell_type": "code",
   "execution_count": 12,
   "metadata": {},
   "outputs": [
    {
     "name": "stdout",
     "output_type": "stream",
     "text": [
      "MAE: 4.351841291760927\n",
      "MSE: 33.76185189745489\n",
      "RMSE: 5.810494978696298\n",
      "R Squared: 0.5286926445211602\n"
     ]
    },
    {
     "data": {
      "text/html": [
       "<div>\n",
       "<style scoped>\n",
       "    .dataframe tbody tr th:only-of-type {\n",
       "        vertical-align: middle;\n",
       "    }\n",
       "\n",
       "    .dataframe tbody tr th {\n",
       "        vertical-align: top;\n",
       "    }\n",
       "\n",
       "    .dataframe thead th {\n",
       "        text-align: right;\n",
       "    }\n",
       "</style>\n",
       "<table border=\"1\" class=\"dataframe\">\n",
       "  <thead>\n",
       "    <tr style=\"text-align: right;\">\n",
       "      <th></th>\n",
       "      <th>Actual Value</th>\n",
       "      <th>SGD Lasso Prediction</th>\n",
       "    </tr>\n",
       "  </thead>\n",
       "  <tbody>\n",
       "    <tr>\n",
       "      <th>0</th>\n",
       "      <td>20.5</td>\n",
       "      <td>17.328398</td>\n",
       "    </tr>\n",
       "    <tr>\n",
       "      <th>1</th>\n",
       "      <td>5.6</td>\n",
       "      <td>8.545018</td>\n",
       "    </tr>\n",
       "    <tr>\n",
       "      <th>2</th>\n",
       "      <td>13.4</td>\n",
       "      <td>12.002728</td>\n",
       "    </tr>\n",
       "    <tr>\n",
       "      <th>3</th>\n",
       "      <td>12.6</td>\n",
       "      <td>18.808854</td>\n",
       "    </tr>\n",
       "    <tr>\n",
       "      <th>4</th>\n",
       "      <td>21.2</td>\n",
       "      <td>25.654724</td>\n",
       "    </tr>\n",
       "    <tr>\n",
       "      <th>...</th>\n",
       "      <td>...</td>\n",
       "      <td>...</td>\n",
       "    </tr>\n",
       "    <tr>\n",
       "      <th>97</th>\n",
       "      <td>25.0</td>\n",
       "      <td>25.396389</td>\n",
       "    </tr>\n",
       "    <tr>\n",
       "      <th>98</th>\n",
       "      <td>19.5</td>\n",
       "      <td>16.603073</td>\n",
       "    </tr>\n",
       "    <tr>\n",
       "      <th>99</th>\n",
       "      <td>19.9</td>\n",
       "      <td>18.957893</td>\n",
       "    </tr>\n",
       "    <tr>\n",
       "      <th>100</th>\n",
       "      <td>15.4</td>\n",
       "      <td>13.830943</td>\n",
       "    </tr>\n",
       "    <tr>\n",
       "      <th>101</th>\n",
       "      <td>21.7</td>\n",
       "      <td>22.226821</td>\n",
       "    </tr>\n",
       "  </tbody>\n",
       "</table>\n",
       "<p>102 rows × 2 columns</p>\n",
       "</div>"
      ],
      "text/plain": [
       "     Actual Value  SGD Lasso Prediction\n",
       "0            20.5             17.328398\n",
       "1             5.6              8.545018\n",
       "2            13.4             12.002728\n",
       "3            12.6             18.808854\n",
       "4            21.2             25.654724\n",
       "..            ...                   ...\n",
       "97           25.0             25.396389\n",
       "98           19.5             16.603073\n",
       "99           19.9             18.957893\n",
       "100          15.4             13.830943\n",
       "101          21.7             22.226821\n",
       "\n",
       "[102 rows x 2 columns]"
      ]
     },
     "execution_count": 12,
     "metadata": {},
     "output_type": "execute_result"
    }
   ],
   "source": [
    "sgd_lasso_reg = make_pipeline(StandardScaler(), SGDRegressor(penalty=\"l1\"))\n",
    "sgd_lasso_reg.fit(X_train, y_train)\n",
    "sgd_lasso_reg_predictions = sgd_lasso_reg.predict(X_test)\n",
    "\n",
    "print_evaluation_metrics(y_test, sgd_lasso_reg_predictions)\n",
    "\n",
    "pd.DataFrame({\n",
    "    'Actual Value': y_test,\n",
    "    'SGD Lasso Prediction': sgd_lasso_reg_predictions,\n",
    "})"
   ]
  },
  {
   "cell_type": "code",
   "execution_count": 13,
   "metadata": {
    "scrolled": false
   },
   "outputs": [
    {
     "data": {
      "text/plain": [
       "[<matplotlib.lines.Line2D at 0x27f2148b548>]"
      ]
     },
     "execution_count": 13,
     "metadata": {},
     "output_type": "execute_result"
    },
    {
     "data": {
      "image/png": "[encoded data removed]",
      "text/plain": [
       "<Figure size 1080x288 with 3 Axes>"
      ]
     },
     "metadata": {
      "needs_background": "light"
     },
     "output_type": "display_data"
    }
   ],
   "source": [
    "fig, (ax1, ax2, ax3) = plt.subplots(1, 3,figsize=(15,4))\n",
    "\n",
    "ax1.scatter(x = X, y = y, color=ORANGE)\n",
    "values = np.column_stack((X_test, linear_reg_predictions))\n",
    "values = values[values[:,0].argsort()]\n",
    "ax1.set_title(\"LinearRegression\")\n",
    "ax1.set_xlabel('% lower status of the population')\n",
    "ax1.set_ylabel('Median value')\n",
    "ax1.plot(values[:,0], values[:,1], color=GRAY)\n",
    "\n",
    "ax2.scatter(x = X, y = y, color=ORANGE)\n",
    "values = np.column_stack((X_test, lasso_reg_predictions))\n",
    "values = values[values[:,0].argsort()]\n",
    "ax2.set_title(\"Lasso Regression\")\n",
    "ax2.set_xlabel('% lower status of the population')\n",
    "ax2.set_ylabel('Median value')\n",
    "ax2.plot(values[:,0], values[:,1], color=GRAY)\n",
    "\n",
    "ax3.scatter(x = X, y = y, color=ORANGE)\n",
    "values = np.column_stack((X_test, sgd_lasso_reg_predictions))\n",
    "values = values[values[:,0].argsort()]\n",
    "ax3.set_title(\"SGD Lasso Regression\")\n",
    "ax3.set_xlabel('% lower status of the population')\n",
    "ax3.set_ylabel('Median value')\n",
    "ax3.plot(values[:,0], values[:,1], color=GRAY)"
   ]
  },
  {
   "cell_type": "markdown",
   "metadata": {},
   "source": [
    "## ElasticNet"
   ]
  },
  {
   "cell_type": "markdown",
   "metadata": {},
   "source": [
    "### Using Sci-Kit Learn"
   ]
  },
  {
   "cell_type": "code",
   "execution_count": 14,
   "metadata": {},
   "outputs": [
    {
     "name": "stdout",
     "output_type": "stream",
     "text": [
      "MAE: 4.279460546855516\n",
      "MSE: 32.776048508799335\n",
      "RMSE: 5.725036987548581\n",
      "R Squared: 0.5424542234043481\n"
     ]
    },
    {
     "data": {
      "text/html": [
       "<div>\n",
       "<style scoped>\n",
       "    .dataframe tbody tr th:only-of-type {\n",
       "        vertical-align: middle;\n",
       "    }\n",
       "\n",
       "    .dataframe tbody tr th {\n",
       "        vertical-align: top;\n",
       "    }\n",
       "\n",
       "    .dataframe thead th {\n",
       "        text-align: right;\n",
       "    }\n",
       "</style>\n",
       "<table border=\"1\" class=\"dataframe\">\n",
       "  <thead>\n",
       "    <tr style=\"text-align: right;\">\n",
       "      <th></th>\n",
       "      <th>Actual Value</th>\n",
       "      <th>ElasticNet Prediction</th>\n",
       "    </tr>\n",
       "  </thead>\n",
       "  <tbody>\n",
       "    <tr>\n",
       "      <th>0</th>\n",
       "      <td>20.5</td>\n",
       "      <td>17.644944</td>\n",
       "    </tr>\n",
       "    <tr>\n",
       "      <th>1</th>\n",
       "      <td>5.6</td>\n",
       "      <td>9.358756</td>\n",
       "    </tr>\n",
       "    <tr>\n",
       "      <th>2</th>\n",
       "      <td>13.4</td>\n",
       "      <td>12.620739</td>\n",
       "    </tr>\n",
       "    <tr>\n",
       "      <th>3</th>\n",
       "      <td>12.6</td>\n",
       "      <td>19.041597</td>\n",
       "    </tr>\n",
       "    <tr>\n",
       "      <th>4</th>\n",
       "      <td>21.2</td>\n",
       "      <td>25.499949</td>\n",
       "    </tr>\n",
       "    <tr>\n",
       "      <th>...</th>\n",
       "      <td>...</td>\n",
       "      <td>...</td>\n",
       "    </tr>\n",
       "    <tr>\n",
       "      <th>97</th>\n",
       "      <td>25.0</td>\n",
       "      <td>25.256238</td>\n",
       "    </tr>\n",
       "    <tr>\n",
       "      <th>98</th>\n",
       "      <td>19.5</td>\n",
       "      <td>16.960677</td>\n",
       "    </tr>\n",
       "    <tr>\n",
       "      <th>99</th>\n",
       "      <td>19.9</td>\n",
       "      <td>19.182200</td>\n",
       "    </tr>\n",
       "    <tr>\n",
       "      <th>100</th>\n",
       "      <td>15.4</td>\n",
       "      <td>14.345466</td>\n",
       "    </tr>\n",
       "    <tr>\n",
       "      <th>101</th>\n",
       "      <td>21.7</td>\n",
       "      <td>22.266087</td>\n",
       "    </tr>\n",
       "  </tbody>\n",
       "</table>\n",
       "<p>102 rows × 2 columns</p>\n",
       "</div>"
      ],
      "text/plain": [
       "     Actual Value  ElasticNet Prediction\n",
       "0            20.5              17.644944\n",
       "1             5.6               9.358756\n",
       "2            13.4              12.620739\n",
       "3            12.6              19.041597\n",
       "4            21.2              25.499949\n",
       "..            ...                    ...\n",
       "97           25.0              25.256238\n",
       "98           19.5              16.960677\n",
       "99           19.9              19.182200\n",
       "100          15.4              14.345466\n",
       "101          21.7              22.266087\n",
       "\n",
       "[102 rows x 2 columns]"
      ]
     },
     "execution_count": 14,
     "metadata": {},
     "output_type": "execute_result"
    }
   ],
   "source": [
    "elastic_net_reg = make_pipeline(StandardScaler(), ElasticNet(alpha=0.1, l1_ratio=0.5))\n",
    "elastic_net_reg.fit(X_train, y_train)\n",
    "elastic_net_reg_predictions = elastic_net_reg.predict(X_test)\n",
    "\n",
    "print_evaluation_metrics(y_test, elastic_net_reg_predictions)\n",
    "\n",
    "pd.DataFrame({\n",
    "    'Actual Value': y_test,\n",
    "    'ElasticNet Prediction': elastic_net_reg_predictions,\n",
    "})"
   ]
  },
  {
   "cell_type": "code",
   "execution_count": 15,
   "metadata": {
    "scrolled": false
   },
   "outputs": [
    {
     "data": {
      "text/plain": [
       "[<matplotlib.lines.Line2D at 0x27f215d5108>]"
      ]
     },
     "execution_count": 15,
     "metadata": {},
     "output_type": "execute_result"
    },
    {
     "data": {
      "image/png": "[encoded data removed]",
      "text/plain": [
       "<Figure size 720x288 with 2 Axes>"
      ]
     },
     "metadata": {
      "needs_background": "light"
     },
     "output_type": "display_data"
    }
   ],
   "source": [
    "fig, (ax1, ax2) = plt.subplots(1, 2, figsize=(10, 4))\n",
    "\n",
    "ax1.scatter(x = X, y = y, color=ORANGE)\n",
    "values = np.column_stack((X_test, linear_reg_predictions))\n",
    "values = values[values[:,0].argsort()]\n",
    "ax1.set_title(\"LinearRegression\")\n",
    "ax1.set_xlabel('% lower status of the population')\n",
    "ax1.set_ylabel('Median value')\n",
    "ax1.plot(values[:,0], values[:,1], color=GRAY)\n",
    "\n",
    "ax2.scatter(x = X, y = y, color=ORANGE)\n",
    "values = np.column_stack((X_test, elastic_net_reg_predictions))\n",
    "values = values[values[:,0].argsort()]\n",
    "ax2.set_title(\"ElasticNet\")\n",
    "ax2.set_xlabel('% lower status of the population')\n",
    "ax2.set_ylabel('Median value')\n",
    "ax2.plot(values[:,0], values[:,1], color=GRAY)"
   ]
  },
  {
   "cell_type": "markdown",
   "metadata": {},
   "source": [
    "## Early Stopping"
   ]
  },
  {
   "cell_type": "code",
   "execution_count": 16,
   "metadata": {},
   "outputs": [
    {
     "name": "stdout",
     "output_type": "stream",
     "text": [
      "MAE: 5.432452178486986\n",
      "MSE: 60.46609011128903\n",
      "RMSE: 7.775994477318578\n",
      "R Squared: 0.15590788345810025\n"
     ]
    },
    {
     "data": {
      "text/html": [
       "<div>\n",
       "<style scoped>\n",
       "    .dataframe tbody tr th:only-of-type {\n",
       "        vertical-align: middle;\n",
       "    }\n",
       "\n",
       "    .dataframe tbody tr th {\n",
       "        vertical-align: top;\n",
       "    }\n",
       "\n",
       "    .dataframe thead th {\n",
       "        text-align: right;\n",
       "    }\n",
       "</style>\n",
       "<table border=\"1\" class=\"dataframe\">\n",
       "  <thead>\n",
       "    <tr style=\"text-align: right;\">\n",
       "      <th></th>\n",
       "      <th>Actual Value</th>\n",
       "      <th>SGD with Early Stopping</th>\n",
       "    </tr>\n",
       "  </thead>\n",
       "  <tbody>\n",
       "    <tr>\n",
       "      <th>0</th>\n",
       "      <td>20.5</td>\n",
       "      <td>15.217084</td>\n",
       "    </tr>\n",
       "    <tr>\n",
       "      <th>1</th>\n",
       "      <td>5.6</td>\n",
       "      <td>11.565403</td>\n",
       "    </tr>\n",
       "    <tr>\n",
       "      <th>2</th>\n",
       "      <td>13.4</td>\n",
       "      <td>13.002942</td>\n",
       "    </tr>\n",
       "    <tr>\n",
       "      <th>3</th>\n",
       "      <td>12.6</td>\n",
       "      <td>15.832582</td>\n",
       "    </tr>\n",
       "    <tr>\n",
       "      <th>4</th>\n",
       "      <td>21.2</td>\n",
       "      <td>18.678745</td>\n",
       "    </tr>\n",
       "    <tr>\n",
       "      <th>...</th>\n",
       "      <td>...</td>\n",
       "      <td>...</td>\n",
       "    </tr>\n",
       "    <tr>\n",
       "      <th>97</th>\n",
       "      <td>25.0</td>\n",
       "      <td>18.571343</td>\n",
       "    </tr>\n",
       "    <tr>\n",
       "      <th>98</th>\n",
       "      <td>19.5</td>\n",
       "      <td>14.915531</td>\n",
       "    </tr>\n",
       "    <tr>\n",
       "      <th>99</th>\n",
       "      <td>19.9</td>\n",
       "      <td>15.894545</td>\n",
       "    </tr>\n",
       "    <tr>\n",
       "      <th>100</th>\n",
       "      <td>15.4</td>\n",
       "      <td>13.763021</td>\n",
       "    </tr>\n",
       "    <tr>\n",
       "      <th>101</th>\n",
       "      <td>21.7</td>\n",
       "      <td>17.253598</td>\n",
       "    </tr>\n",
       "  </tbody>\n",
       "</table>\n",
       "<p>102 rows × 2 columns</p>\n",
       "</div>"
      ],
      "text/plain": [
       "     Actual Value  SGD with Early Stopping\n",
       "0            20.5                15.217084\n",
       "1             5.6                11.565403\n",
       "2            13.4                13.002942\n",
       "3            12.6                15.832582\n",
       "4            21.2                18.678745\n",
       "..            ...                      ...\n",
       "97           25.0                18.571343\n",
       "98           19.5                14.915531\n",
       "99           19.9                15.894545\n",
       "100          15.4                13.763021\n",
       "101          21.7                17.253598\n",
       "\n",
       "[102 rows x 2 columns]"
      ]
     },
     "execution_count": 16,
     "metadata": {},
     "output_type": "execute_result"
    }
   ],
   "source": [
    "sgd_reg = SGDRegressor(penalty=\"elasticnet\", early_stopping = True, alpha=11)\n",
    "X_train = StandardScaler().fit_transform(X_train)\n",
    "\n",
    "sgd_reg.fit(X_train, y_train)\n",
    "sgd_reg_predictions = sgd_reg.predict(X_test)\n",
    "\n",
    "print_evaluation_metrics(y_test, sgd_reg_predictions)\n",
    "\n",
    "pd.DataFrame({\n",
    "    'Actual Value': y_test,\n",
    "    'SGD with Early Stopping': sgd_reg_predictions,\n",
    "})"
   ]
  },
  {
   "cell_type": "code",
   "execution_count": 17,
   "metadata": {},
   "outputs": [
    {
     "data": {
      "text/plain": [
       "[<matplotlib.lines.Line2D at 0x27f216cf8c8>]"
      ]
     },
     "execution_count": 17,
     "metadata": {},
     "output_type": "execute_result"
    },
    {
     "data": {
      "image/png": "[encoded data removed]",
      "text/plain": [
       "<Figure size 720x288 with 2 Axes>"
      ]
     },
     "metadata": {
      "needs_background": "light"
     },
     "output_type": "display_data"
    }
   ],
   "source": [
    "fig, (ax1, ax2) = plt.subplots(1, 2, figsize=(10, 4))\n",
    "\n",
    "ax1.scatter(x = X, y = y, color=ORANGE)\n",
    "values = np.column_stack((X_test, linear_reg_predictions))\n",
    "values = values[values[:,0].argsort()]\n",
    "ax1.set_title(\"LinearRegression\")\n",
    "ax1.set_xlabel('% lower status of the population')\n",
    "ax1.set_ylabel('Median value')\n",
    "ax1.plot(values[:,0], values[:,1], color=GRAY)\n",
    "\n",
    "ax2.scatter(x = X, y = y, color=ORANGE)\n",
    "values = np.column_stack((X_test, sgd_reg_predictions))\n",
    "values = values[values[:,0].argsort()]\n",
    "ax2.set_title(\"SGD with Early Stopping\")\n",
    "ax2.set_xlabel('% lower status of the population')\n",
    "ax2.set_ylabel('Median value')\n",
    "ax2.plot(values[:,0], values[:,1], color=GRAY)"
   ]
  }
 ],
 "metadata": {
  "kernelspec": {
   "display_name": "Python 3",
   "language": "python",
   "name": "python3"
  },
  "language_info": {
   "codemirror_mode": {
    "name": "ipython",
    "version": 3
   },
   "file_extension": ".py",
   "mimetype": "text/x-python",
   "name": "python",
   "nbconvert_exporter": "python",
   "pygments_lexer": "ipython3",
   "version": "3.7.6"
  }
 },
 "nbformat": 4,
 "nbformat_minor": 4
}
