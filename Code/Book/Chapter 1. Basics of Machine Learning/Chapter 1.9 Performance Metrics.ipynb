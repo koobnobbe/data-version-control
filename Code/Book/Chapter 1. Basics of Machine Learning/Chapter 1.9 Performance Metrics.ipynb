{
 "cells": [
  {
   "cell_type": "markdown",
   "metadata": {},
   "source": [
    "# Performance Metrics"
   ]
  },
  {
   "cell_type": "code",
   "execution_count": 1,
   "metadata": {},
   "outputs": [],
   "source": [
    "from math import sqrt\n",
    "from typing import List\n",
    "from itertools import combinations\n",
    "\n",
    "import numpy as np\n",
    "import pandas as pd\n",
    "\n",
    "from sklearn import metrics\n",
    "from sklearn.preprocessing import minmax_scale\n",
    "from sklearn.model_selection import train_test_split\n",
    "from sklearn.tree import DecisionTreeClassifier\n",
    "\n",
    "import matplotlib.pyplot as plt"
   ]
  },
  {
   "cell_type": "code",
   "execution_count": 2,
   "metadata": {},
   "outputs": [],
   "source": [
    "# Globals\n",
    "RED = '#ef4123'"
   ]
  },
  {
   "cell_type": "markdown",
   "metadata": {},
   "source": [
    "## Classification Performance Metrics"
   ]
  },
  {
   "cell_type": "code",
   "execution_count": 3,
   "metadata": {},
   "outputs": [],
   "source": [
    "actual_values = [1, 1, 0, 1, 0, 0, 1, 0, 0, 0]\n",
    "predictions =   [1, 0, 1, 1, 1, 0, 1, 1, 0, 0]"
   ]
  },
  {
   "cell_type": "markdown",
   "metadata": {},
   "source": [
    "### Confusion Matrix"
   ]
  },
  {
   "cell_type": "code",
   "execution_count": 4,
   "metadata": {},
   "outputs": [
    {
     "name": "stdout",
     "output_type": "stream",
     "text": [
      "[[3 3]\n",
      " [1 3]]\n"
     ]
    }
   ],
   "source": [
    "print(metrics.confusion_matrix(actual_values, predictions))"
   ]
  },
  {
   "cell_type": "markdown",
   "metadata": {},
   "source": [
    "### Complete Classification Report"
   ]
  },
  {
   "cell_type": "code",
   "execution_count": 5,
   "metadata": {
    "scrolled": false
   },
   "outputs": [
    {
     "name": "stdout",
     "output_type": "stream",
     "text": [
      "              precision    recall  f1-score   support\n",
      "\n",
      "           0       0.75      0.50      0.60         6\n",
      "           1       0.50      0.75      0.60         4\n",
      "\n",
      "    accuracy                           0.60        10\n",
      "   macro avg       0.62      0.62      0.60        10\n",
      "weighted avg       0.65      0.60      0.60        10\n",
      "\n"
     ]
    }
   ],
   "source": [
    "print(metrics.classification_report(actual_values, predictions))"
   ]
  },
  {
   "cell_type": "markdown",
   "metadata": {},
   "source": [
    "### Accuracy Score"
   ]
  },
  {
   "cell_type": "code",
   "execution_count": 6,
   "metadata": {
    "scrolled": true
   },
   "outputs": [
    {
     "name": "stdout",
     "output_type": "stream",
     "text": [
      "Accuracy Score is: 60.0 % \n"
     ]
    }
   ],
   "source": [
    "print(f'Accuracy Score is: {metrics.accuracy_score(actual_values, predictions) * 100} % ')"
   ]
  },
  {
   "cell_type": "markdown",
   "metadata": {},
   "source": [
    "### Precision Score"
   ]
  },
  {
   "cell_type": "code",
   "execution_count": 7,
   "metadata": {},
   "outputs": [
    {
     "name": "stdout",
     "output_type": "stream",
     "text": [
      "Precision Score is: 0.5\n"
     ]
    }
   ],
   "source": [
    "print(f'Precision Score is: {metrics.precision_score(actual_values, predictions)}')"
   ]
  },
  {
   "cell_type": "markdown",
   "metadata": {},
   "source": [
    "### Recall Score"
   ]
  },
  {
   "cell_type": "code",
   "execution_count": 8,
   "metadata": {
    "scrolled": true
   },
   "outputs": [
    {
     "name": "stdout",
     "output_type": "stream",
     "text": [
      "Recall Score is: 0.75\n"
     ]
    }
   ],
   "source": [
    "print(f'Recall Score is: {metrics.recall_score(actual_values, predictions)}')"
   ]
  },
  {
   "cell_type": "markdown",
   "metadata": {},
   "source": [
    "### Precision - Recall Curve"
   ]
  },
  {
   "cell_type": "code",
   "execution_count": 9,
   "metadata": {},
   "outputs": [],
   "source": [
    "data = pd.read_csv('./data/penguins_size.csv')\n",
    "\n",
    "data = data.dropna()\n",
    "data = data.drop(['sex', 'island', 'flipper_length_mm', 'body_mass_g'], axis=1)\n",
    "data = data[data['species'] != 'Chinstrap']\n",
    "\n",
    "X = data.drop(['species'], axis=1).values\n",
    "\n",
    "y = data['species']\n",
    "spicies = {'Adelie': -1, 'Gentoo': 1}\n",
    "y = [spicies[item] for item in y]\n",
    "y = np.array(y) \n",
    "\n",
    "X_train, X_test, y_train, y_test = train_test_split(X, y, test_size=0.2, random_state=33)\n",
    "\n",
    "dt_model = DecisionTreeClassifier(max_depth=1)\n",
    "dt_model.fit(X_train, y_train)\n",
    "dt_preditions = dt_model.predict(X_test)"
   ]
  },
  {
   "cell_type": "code",
   "execution_count": 10,
   "metadata": {},
   "outputs": [
    {
     "data": {
      "image/png": "[encoded data removed]",
      "text/plain": [
       "<Figure size 432x288 with 1 Axes>"
      ]
     },
     "metadata": {
      "needs_background": "light"
     },
     "output_type": "display_data"
    }
   ],
   "source": [
    "disp = metrics.plot_precision_recall_curve(dt_model, X_test, y_test, color=RED)"
   ]
  },
  {
   "cell_type": "markdown",
   "metadata": {},
   "source": [
    "### F1 Score"
   ]
  },
  {
   "cell_type": "code",
   "execution_count": 11,
   "metadata": {
    "scrolled": true
   },
   "outputs": [
    {
     "name": "stdout",
     "output_type": "stream",
     "text": [
      "F1 Score: 0.6\n"
     ]
    }
   ],
   "source": [
    "print('F1 Score:', metrics.f1_score(actual_values, predictions))"
   ]
  },
  {
   "cell_type": "markdown",
   "metadata": {},
   "source": [
    "### AUC-ROC"
   ]
  },
  {
   "cell_type": "code",
   "execution_count": 12,
   "metadata": {},
   "outputs": [],
   "source": [
    "data = pd.read_csv('./data/penguins_size.csv')\n",
    "\n",
    "data = data.dropna()\n",
    "data = data.drop(['sex', 'island', 'flipper_length_mm', 'body_mass_g'], axis=1)\n",
    "data = data[data['species'] != 'Chinstrap']\n",
    "\n",
    "X = data.drop(['species'], axis=1).values\n",
    "\n",
    "y = data['species']\n",
    "spicies = {'Adelie': -1, 'Gentoo': 1}\n",
    "y = [spicies[item] for item in y]\n",
    "y = np.array(y) \n",
    "\n",
    "X_train, X_test, y_train, y_test = train_test_split(X, y, test_size=0.2, random_state=33)\n",
    "\n",
    "dt_model = DecisionTreeClassifier(max_depth=1)\n",
    "dt_model.fit(X_train, y_train)\n",
    "dt_preditions = dt_model.predict(X_test)"
   ]
  },
  {
   "cell_type": "code",
   "execution_count": 13,
   "metadata": {},
   "outputs": [
    {
     "data": {
      "text/plain": [
       "<sklearn.metrics._plot.roc_curve.RocCurveDisplay at 0x1b4b2d4c308>"
      ]
     },
     "execution_count": 13,
     "metadata": {},
     "output_type": "execute_result"
    },
    {
     "data": {
      "image/png": "[encoded data removed]",
      "text/plain": [
       "<Figure size 432x288 with 1 Axes>"
      ]
     },
     "metadata": {
      "needs_background": "light"
     },
     "output_type": "display_data"
    }
   ],
   "source": [
    "metrics.plot_roc_curve(dt_model, X_test, y_test, color = RED)"
   ]
  },
  {
   "cell_type": "code",
   "execution_count": 14,
   "metadata": {
    "scrolled": true
   },
   "outputs": [
    {
     "name": "stdout",
     "output_type": "stream",
     "text": [
      "AUC-ROC: 0.625\n"
     ]
    }
   ],
   "source": [
    "print('AUC-ROC:', metrics.roc_auc_score(actual_values, predictions))"
   ]
  },
  {
   "cell_type": "markdown",
   "metadata": {},
   "source": [
    "### LOGLOSS"
   ]
  },
  {
   "cell_type": "code",
   "execution_count": 15,
   "metadata": {
    "scrolled": true
   },
   "outputs": [
    {
     "name": "stdout",
     "output_type": "stream",
     "text": [
      "LOGLOSS: 13.815750437193334\n"
     ]
    }
   ],
   "source": [
    "print('LOGLOSS:', metrics.log_loss(actual_values, predictions))"
   ]
  },
  {
   "cell_type": "markdown",
   "metadata": {},
   "source": [
    "## Regression Performance Metrics"
   ]
  },
  {
   "cell_type": "code",
   "execution_count": 16,
   "metadata": {},
   "outputs": [],
   "source": [
    "actual_values =    [9, -3.3, 6, 11]\n",
    "predictions = [8.5, -2.9, 6, 9.2]"
   ]
  },
  {
   "cell_type": "markdown",
   "metadata": {},
   "source": [
    "### Mean Absolute Error - MAE"
   ]
  },
  {
   "cell_type": "code",
   "execution_count": 17,
   "metadata": {},
   "outputs": [
    {
     "name": "stdout",
     "output_type": "stream",
     "text": [
      "MAE: 0.6750000000000002\n"
     ]
    }
   ],
   "source": [
    "print (f'MAE: {metrics.mean_absolute_error(actual_values, predictions)}')"
   ]
  },
  {
   "cell_type": "markdown",
   "metadata": {},
   "source": [
    "### Mean Squared Error - MSE"
   ]
  },
  {
   "cell_type": "code",
   "execution_count": 18,
   "metadata": {},
   "outputs": [
    {
     "name": "stdout",
     "output_type": "stream",
     "text": [
      "MSE: 0.9125000000000005\n"
     ]
    }
   ],
   "source": [
    "print (f'MSE: {metrics.mean_squared_error(actual_values, predictions)}')"
   ]
  },
  {
   "cell_type": "markdown",
   "metadata": {},
   "source": [
    "### Root Mean Squared Error - RMSE"
   ]
  },
  {
   "cell_type": "code",
   "execution_count": 19,
   "metadata": {},
   "outputs": [],
   "source": [
    "def rmse(actual_values, predictions):\n",
    "    actual_values = np.asarray(actual_values)\n",
    "    predictions = np.asarray(predictions)\n",
    "    return np.sqrt(((predictions - actual_values) ** 2).mean())"
   ]
  },
  {
   "cell_type": "code",
   "execution_count": 20,
   "metadata": {},
   "outputs": [
    {
     "name": "stdout",
     "output_type": "stream",
     "text": [
      "RMSE: 0.9552486587271403\n"
     ]
    }
   ],
   "source": [
    "print(f'RMSE: {rmse(actual_values, predictions)}')"
   ]
  },
  {
   "cell_type": "code",
   "execution_count": 21,
   "metadata": {},
   "outputs": [
    {
     "name": "stdout",
     "output_type": "stream",
     "text": [
      "RMSE: 0.9552486587271403\n"
     ]
    }
   ],
   "source": [
    "print(f'RMSE: {sqrt(metrics.mean_squared_error(actual_values, predictions))}')"
   ]
  },
  {
   "cell_type": "markdown",
   "metadata": {},
   "source": [
    "### Root Mean Squared Logarithmic Error - RMSLE"
   ]
  },
  {
   "cell_type": "code",
   "execution_count": 22,
   "metadata": {},
   "outputs": [
    {
     "name": "stdout",
     "output_type": "stream",
     "text": [
      "RMSLE: 0.033145260915431275\n"
     ]
    }
   ],
   "source": [
    "actual_values_ranged = minmax_scale(actual_values, feature_range=(0,1))\n",
    "predictions_ranged = minmax_scale(predictions, feature_range=(0,1))\n",
    "\n",
    "print(f'RMSLE: {sqrt(metrics.mean_squared_log_error(actual_values_ranged, predictions_ranged))}')"
   ]
  },
  {
   "cell_type": "markdown",
   "metadata": {},
   "source": [
    "### R Squared"
   ]
  },
  {
   "cell_type": "code",
   "execution_count": 23,
   "metadata": {},
   "outputs": [
    {
     "name": "stdout",
     "output_type": "stream",
     "text": [
      "R Squared: 0.9696004330897203\n"
     ]
    }
   ],
   "source": [
    "print (f'R Squared: {metrics.r2_score(actual_values, predictions)}')"
   ]
  }
 ],
 "metadata": {
  "kernelspec": {
   "display_name": "Python 3",
   "language": "python",
   "name": "python3"
  },
  "language_info": {
   "codemirror_mode": {
    "name": "ipython",
    "version": 3
   },
   "file_extension": ".py",
   "mimetype": "text/x-python",
   "name": "python",
   "nbconvert_exporter": "python",
   "pygments_lexer": "ipython3",
   "version": "3.7.6"
  }
 },
 "nbformat": 4,
 "nbformat_minor": 4
}
