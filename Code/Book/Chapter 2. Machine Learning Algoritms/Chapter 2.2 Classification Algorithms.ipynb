{
 "cells": [
  {
   "cell_type": "code",
   "execution_count": 1,
   "metadata": {},
   "outputs": [],
   "source": [
    "import pandas as pd\n",
    "import numpy as np\n",
    "import matplotlib.pyplot as plt\n",
    "from scipy.stats import norm\n",
    "\n",
    "import sklearn.metrics as metrics\n",
    "from sklearn.model_selection import train_test_split\n",
    "from sklearn.preprocessing import StandardScaler\n",
    "from sklearn.linear_model import LogisticRegression\n",
    "from sklearn.neighbors import KNeighborsClassifier\n",
    "from sklearn.naive_bayes import GaussianNB"
   ]
  },
  {
   "cell_type": "code",
   "execution_count": null,
   "metadata": {},
   "outputs": [],
   "source": [
    "# Globals\n",
    "ORANGE = '#F2BE4A'\n",
    "RED = '#ef4123'\n",
    "GRAY = '#545453'"
   ]
  },
  {
   "cell_type": "markdown",
   "metadata": {},
   "source": [
    "## Logistic Regression"
   ]
  },
  {
   "cell_type": "markdown",
   "metadata": {},
   "source": [
    "### Prepare the data for Logistic Regression"
   ]
  },
  {
   "cell_type": "code",
   "execution_count": 2,
   "metadata": {},
   "outputs": [
    {
     "data": {
      "text/html": [
       "<div>\n",
       "<style scoped>\n",
       "    .dataframe tbody tr th:only-of-type {\n",
       "        vertical-align: middle;\n",
       "    }\n",
       "\n",
       "    .dataframe tbody tr th {\n",
       "        vertical-align: top;\n",
       "    }\n",
       "\n",
       "    .dataframe thead th {\n",
       "        text-align: right;\n",
       "    }\n",
       "</style>\n",
       "<table border=\"1\" class=\"dataframe\">\n",
       "  <thead>\n",
       "    <tr style=\"text-align: right;\">\n",
       "      <th></th>\n",
       "      <th>species</th>\n",
       "      <th>island</th>\n",
       "      <th>culmen_length_mm</th>\n",
       "      <th>culmen_depth_mm</th>\n",
       "      <th>flipper_length_mm</th>\n",
       "      <th>body_mass_g</th>\n",
       "      <th>sex</th>\n",
       "    </tr>\n",
       "  </thead>\n",
       "  <tbody>\n",
       "    <tr>\n",
       "      <th>0</th>\n",
       "      <td>Adelie</td>\n",
       "      <td>Torgersen</td>\n",
       "      <td>39.1</td>\n",
       "      <td>18.7</td>\n",
       "      <td>181.0</td>\n",
       "      <td>3750.0</td>\n",
       "      <td>MALE</td>\n",
       "    </tr>\n",
       "    <tr>\n",
       "      <th>1</th>\n",
       "      <td>Adelie</td>\n",
       "      <td>Torgersen</td>\n",
       "      <td>39.5</td>\n",
       "      <td>17.4</td>\n",
       "      <td>186.0</td>\n",
       "      <td>3800.0</td>\n",
       "      <td>FEMALE</td>\n",
       "    </tr>\n",
       "    <tr>\n",
       "      <th>2</th>\n",
       "      <td>Adelie</td>\n",
       "      <td>Torgersen</td>\n",
       "      <td>40.3</td>\n",
       "      <td>18.0</td>\n",
       "      <td>195.0</td>\n",
       "      <td>3250.0</td>\n",
       "      <td>FEMALE</td>\n",
       "    </tr>\n",
       "    <tr>\n",
       "      <th>3</th>\n",
       "      <td>Adelie</td>\n",
       "      <td>Torgersen</td>\n",
       "      <td>NaN</td>\n",
       "      <td>NaN</td>\n",
       "      <td>NaN</td>\n",
       "      <td>NaN</td>\n",
       "      <td>NaN</td>\n",
       "    </tr>\n",
       "    <tr>\n",
       "      <th>4</th>\n",
       "      <td>Adelie</td>\n",
       "      <td>Torgersen</td>\n",
       "      <td>36.7</td>\n",
       "      <td>19.3</td>\n",
       "      <td>193.0</td>\n",
       "      <td>3450.0</td>\n",
       "      <td>FEMALE</td>\n",
       "    </tr>\n",
       "  </tbody>\n",
       "</table>\n",
       "</div>"
      ],
      "text/plain": [
       "  species     island  culmen_length_mm  culmen_depth_mm  flipper_length_mm  \\\n",
       "0  Adelie  Torgersen              39.1             18.7              181.0   \n",
       "1  Adelie  Torgersen              39.5             17.4              186.0   \n",
       "2  Adelie  Torgersen              40.3             18.0              195.0   \n",
       "3  Adelie  Torgersen               NaN              NaN                NaN   \n",
       "4  Adelie  Torgersen              36.7             19.3              193.0   \n",
       "\n",
       "   body_mass_g     sex  \n",
       "0       3750.0    MALE  \n",
       "1       3800.0  FEMALE  \n",
       "2       3250.0  FEMALE  \n",
       "3          NaN     NaN  \n",
       "4       3450.0  FEMALE  "
      ]
     },
     "execution_count": 2,
     "metadata": {},
     "output_type": "execute_result"
    }
   ],
   "source": [
    "data = pd.read_csv('./data/penguins_size.csv')\n",
    "data.head()"
   ]
  },
  {
   "cell_type": "code",
   "execution_count": 3,
   "metadata": {},
   "outputs": [],
   "source": [
    "data = data.drop(['sex', 'island', 'flipper_length_mm', 'body_mass_g'], axis=1)\n",
    "data = data[data['species'] != 'Chinstrap']\n",
    "\n",
    "data['culmen_length_mm'].fillna((data['culmen_length_mm'].mean()), inplace=True)\n",
    "data['culmen_depth_mm'].fillna((data['culmen_depth_mm'].mean()), inplace=True)"
   ]
  },
  {
   "cell_type": "code",
   "execution_count": 4,
   "metadata": {},
   "outputs": [],
   "source": [
    "X = data.drop(['species'], axis=1)\n",
    "X = X.values\n",
    "\n",
    "ss = StandardScaler()\n",
    "X = ss.fit_transform(X)"
   ]
  },
  {
   "cell_type": "code",
   "execution_count": 5,
   "metadata": {},
   "outputs": [],
   "source": [
    "y = data['species']\n",
    "spicies = {'Adelie': 0, 'Gentoo': 1}\n",
    "y = [spicies[item] for item in y]\n",
    "y = np.array(y) "
   ]
  },
  {
   "cell_type": "code",
   "execution_count": 6,
   "metadata": {},
   "outputs": [],
   "source": [
    "# Remove sample that is too close\n",
    "X = np.delete(X, 182, axis=0)\n",
    "y = np.delete(y, 182, axis=0)"
   ]
  },
  {
   "cell_type": "code",
   "execution_count": 7,
   "metadata": {},
   "outputs": [],
   "source": [
    "# Split the data\n",
    "X_train, X_test, y_train, y_test = train_test_split(X, y, test_size=0.2, random_state=33)"
   ]
  },
  {
   "cell_type": "code",
   "execution_count": 8,
   "metadata": {},
   "outputs": [
    {
     "data": {
      "image/png": "[encoded data removed]",
      "text/plain": [
       "<Figure size 792x360 with 1 Axes>"
      ]
     },
     "metadata": {
      "needs_background": "light"
     },
     "output_type": "display_data"
    }
   ],
   "source": [
    "plt.figure(figsize=(11, 5))\n",
    "plt.title(\"PalmerPenguin Dataset\")\n",
    "plt.xlabel('Culmen Length')\n",
    "plt.ylabel('Culmen Depth')\n",
    "plt.scatter(X[y == 0][:, 0], X[y == 0][:, 1], color=RED, label='Adelie')\n",
    "plt.scatter(X[y == 1][:, 0], X[y == 1][:, 1], color=ORANGE, label='Gentoo')\n",
    "plt.legend();"
   ]
  },
  {
   "cell_type": "markdown",
   "metadata": {},
   "source": [
    "### Python Implementation"
   ]
  },
  {
   "cell_type": "code",
   "execution_count": 9,
   "metadata": {},
   "outputs": [],
   "source": [
    "class MyLogisticRegression():\n",
    "    '''Implements algorithm for Logistic Regression'''\n",
    "    def __init__(self, learning_rate=0.1):\n",
    "        self.learning_rate=learning_rate\n",
    "    \n",
    "    def __sigmoid(self, x):\n",
    "        return 1 / (1 + np.exp(-x))\n",
    "    \n",
    "    def __loss(self, p, y):\n",
    "        return (-y * np.log(p) - (1 - y) * np.log(1 - p)).mean()\n",
    "    \n",
    "    def __extend_input(self, X):\n",
    "        ones = np.ones((X.shape[0], 1))\n",
    "        return np.concatenate((ones, X), axis=1)\n",
    "    \n",
    "    def __gradient(self, X, p, y):\n",
    "        return np.dot(X.T, (p - y)) / y.size\n",
    "    \n",
    "    def fit(self, X, y, epochs):\n",
    "        X = self.__extend_input(X)\n",
    "        \n",
    "        self.theta = np.zeros(X.shape[1])\n",
    "        \n",
    "        for i in range(epochs):\n",
    "            z = np.dot(X, self.theta)\n",
    "            h = self.__sigmoid(z)\n",
    "            \n",
    "            loss = self.__loss(h, y)\n",
    "\n",
    "            if(i % 10000 == 0):\n",
    "                print(f'Epoch {i} - Loss: {loss} \\t') \n",
    "                \n",
    "            self.theta -= self.learning_rate * self.__gradient(X, h, y)\n",
    "\n",
    "    def predict(self, X):\n",
    "        X = self.__extend_input(X)\n",
    "        probability = self.__sigmoid(np.dot(X, self.theta))\n",
    "        \n",
    "        return probability.round()"
   ]
  },
  {
   "cell_type": "code",
   "execution_count": 10,
   "metadata": {},
   "outputs": [
    {
     "name": "stdout",
     "output_type": "stream",
     "text": [
      "Epoch 0 - Loss: 0.6931471805599454 \t\n",
      "Epoch 10000 - Loss: 0.012819764501272977 \t\n",
      "Epoch 20000 - Loss: 0.011013027144578994 \t\n",
      "Epoch 30000 - Loss: 0.010181650331194806 \t\n",
      "Epoch 40000 - Loss: 0.009671604050048055 \t\n",
      "Epoch 50000 - Loss: 0.009316287125129196 \t\n",
      "Epoch 60000 - Loss: 0.009050017828631182 \t\n",
      "Epoch 70000 - Loss: 0.008840685865181042 \t\n",
      "Epoch 80000 - Loss: 0.008670404338155711 \t\n",
      "Epoch 90000 - Loss: 0.008528290332982103 \t\n"
     ]
    }
   ],
   "source": [
    "model = MyLogisticRegression()\n",
    "model.fit(X_train, y_train, 100000)"
   ]
  },
  {
   "cell_type": "code",
   "execution_count": 11,
   "metadata": {},
   "outputs": [
    {
     "name": "stdout",
     "output_type": "stream",
     "text": [
      "              precision    recall  f1-score   support\n",
      "\n",
      "           0       1.00      1.00      1.00        26\n",
      "           1       1.00      1.00      1.00        29\n",
      "\n",
      "    accuracy                           1.00        55\n",
      "   macro avg       1.00      1.00      1.00        55\n",
      "weighted avg       1.00      1.00      1.00        55\n",
      "\n"
     ]
    }
   ],
   "source": [
    "predictions = model.predict(X_test)\n",
    "print(metrics.classification_report(y_test, predictions))"
   ]
  },
  {
   "cell_type": "code",
   "execution_count": 12,
   "metadata": {},
   "outputs": [
    {
     "data": {
      "image/png": "[encoded data removed]",
      "text/plain": [
       "<Figure size 792x360 with 1 Axes>"
      ]
     },
     "metadata": {
      "needs_background": "light"
     },
     "output_type": "display_data"
    }
   ],
   "source": [
    "plt.figure(figsize=(11, 5))\n",
    "\n",
    "plt.title(\"MyLogisticRegression\")\n",
    "plt.xlabel('Culmen Length')\n",
    "plt.ylabel('Culmen Depth')\n",
    "\n",
    "plt.scatter(X[y == 0][:, 0], X[y == 0][:, 1], color=RED, label='Adelie')\n",
    "plt.scatter(X[y == 1][:, 0], X[y == 1][:, 1], color=ORANGE, label='Gentoo')\n",
    "plt.legend()\n",
    "\n",
    "\n",
    "x_values = [np.min(X[:, 0]), np.max(X[:, 1])]\n",
    "y_values = - (model.theta[0] + np.dot(model.theta[1], x_values)) / model.theta[2]\n",
    "\n",
    "plt.plot(x_values, y_values, color='black');"
   ]
  },
  {
   "cell_type": "markdown",
   "metadata": {},
   "source": [
    "### Using SciKit Learn"
   ]
  },
  {
   "cell_type": "code",
   "execution_count": 13,
   "metadata": {},
   "outputs": [
    {
     "name": "stdout",
     "output_type": "stream",
     "text": [
      "              precision    recall  f1-score   support\n",
      "\n",
      "           0       1.00      1.00      1.00        26\n",
      "           1       1.00      1.00      1.00        29\n",
      "\n",
      "    accuracy                           1.00        55\n",
      "   macro avg       1.00      1.00      1.00        55\n",
      "weighted avg       1.00      1.00      1.00        55\n",
      "\n"
     ]
    }
   ],
   "source": [
    "model = LogisticRegression(C=1e20)\n",
    "model.fit(X_train, y_train)\n",
    "\n",
    "preditions = model.predict(X_test)\n",
    "print(metrics.classification_report(y_test, predictions))"
   ]
  },
  {
   "cell_type": "markdown",
   "metadata": {},
   "source": [
    "## K-Nearest Neighbour"
   ]
  },
  {
   "cell_type": "markdown",
   "metadata": {},
   "source": [
    "### Prepare the data for K-Nearest Neighbour"
   ]
  },
  {
   "cell_type": "code",
   "execution_count": 14,
   "metadata": {},
   "outputs": [
    {
     "data": {
      "text/html": [
       "<div>\n",
       "<style scoped>\n",
       "    .dataframe tbody tr th:only-of-type {\n",
       "        vertical-align: middle;\n",
       "    }\n",
       "\n",
       "    .dataframe tbody tr th {\n",
       "        vertical-align: top;\n",
       "    }\n",
       "\n",
       "    .dataframe thead th {\n",
       "        text-align: right;\n",
       "    }\n",
       "</style>\n",
       "<table border=\"1\" class=\"dataframe\">\n",
       "  <thead>\n",
       "    <tr style=\"text-align: right;\">\n",
       "      <th></th>\n",
       "      <th>species</th>\n",
       "      <th>island</th>\n",
       "      <th>culmen_length_mm</th>\n",
       "      <th>culmen_depth_mm</th>\n",
       "      <th>flipper_length_mm</th>\n",
       "      <th>body_mass_g</th>\n",
       "      <th>sex</th>\n",
       "    </tr>\n",
       "  </thead>\n",
       "  <tbody>\n",
       "    <tr>\n",
       "      <th>0</th>\n",
       "      <td>Adelie</td>\n",
       "      <td>Torgersen</td>\n",
       "      <td>39.1</td>\n",
       "      <td>18.7</td>\n",
       "      <td>181.0</td>\n",
       "      <td>3750.0</td>\n",
       "      <td>MALE</td>\n",
       "    </tr>\n",
       "    <tr>\n",
       "      <th>1</th>\n",
       "      <td>Adelie</td>\n",
       "      <td>Torgersen</td>\n",
       "      <td>39.5</td>\n",
       "      <td>17.4</td>\n",
       "      <td>186.0</td>\n",
       "      <td>3800.0</td>\n",
       "      <td>FEMALE</td>\n",
       "    </tr>\n",
       "    <tr>\n",
       "      <th>2</th>\n",
       "      <td>Adelie</td>\n",
       "      <td>Torgersen</td>\n",
       "      <td>40.3</td>\n",
       "      <td>18.0</td>\n",
       "      <td>195.0</td>\n",
       "      <td>3250.0</td>\n",
       "      <td>FEMALE</td>\n",
       "    </tr>\n",
       "    <tr>\n",
       "      <th>3</th>\n",
       "      <td>Adelie</td>\n",
       "      <td>Torgersen</td>\n",
       "      <td>NaN</td>\n",
       "      <td>NaN</td>\n",
       "      <td>NaN</td>\n",
       "      <td>NaN</td>\n",
       "      <td>NaN</td>\n",
       "    </tr>\n",
       "    <tr>\n",
       "      <th>4</th>\n",
       "      <td>Adelie</td>\n",
       "      <td>Torgersen</td>\n",
       "      <td>36.7</td>\n",
       "      <td>19.3</td>\n",
       "      <td>193.0</td>\n",
       "      <td>3450.0</td>\n",
       "      <td>FEMALE</td>\n",
       "    </tr>\n",
       "  </tbody>\n",
       "</table>\n",
       "</div>"
      ],
      "text/plain": [
       "  species     island  culmen_length_mm  culmen_depth_mm  flipper_length_mm  \\\n",
       "0  Adelie  Torgersen              39.1             18.7              181.0   \n",
       "1  Adelie  Torgersen              39.5             17.4              186.0   \n",
       "2  Adelie  Torgersen              40.3             18.0              195.0   \n",
       "3  Adelie  Torgersen               NaN              NaN                NaN   \n",
       "4  Adelie  Torgersen              36.7             19.3              193.0   \n",
       "\n",
       "   body_mass_g     sex  \n",
       "0       3750.0    MALE  \n",
       "1       3800.0  FEMALE  \n",
       "2       3250.0  FEMALE  \n",
       "3          NaN     NaN  \n",
       "4       3450.0  FEMALE  "
      ]
     },
     "execution_count": 14,
     "metadata": {},
     "output_type": "execute_result"
    }
   ],
   "source": [
    "data = pd.read_csv('./data/penguins_size.csv')\n",
    "data.head()"
   ]
  },
  {
   "cell_type": "code",
   "execution_count": 15,
   "metadata": {},
   "outputs": [],
   "source": [
    "data = pd.read_csv('./data/penguins_size.csv')\n",
    "data = data.drop(['sex', 'island', 'flipper_length_mm', 'body_mass_g'], axis=1)\n",
    "\n",
    "data['culmen_length_mm'].fillna((data['culmen_length_mm'].mean()), inplace=True)\n",
    "data['culmen_depth_mm'].fillna((data['culmen_depth_mm'].mean()), inplace=True)\n",
    "\n",
    "ss = StandardScaler()\n",
    "\n",
    "# Prepare input\n",
    "X = data.drop(['species'], axis=1)\n",
    "X = X.values\n",
    "X = ss.fit_transform(X)\n",
    "\n",
    "# Prepare target\n",
    "y = data['species']\n",
    "spicies = {'Adelie': 0, 'Chinstrap': 1, 'Gentoo': 2}\n",
    "\n",
    "y = [spicies[item] for item in y]\n",
    "y = np.array(y) \n",
    "\n",
    "# Split the data\n",
    "X_train, X_test, y_train, y_test = train_test_split(X, y, test_size=0.2, random_state=33)"
   ]
  },
  {
   "cell_type": "code",
   "execution_count": 16,
   "metadata": {},
   "outputs": [
    {
     "data": {
      "image/png": "[encoded data removed]",
      "text/plain": [
       "<Figure size 792x360 with 1 Axes>"
      ]
     },
     "metadata": {
      "needs_background": "light"
     },
     "output_type": "display_data"
    }
   ],
   "source": [
    "plt.figure(figsize=(11, 5))\n",
    "\n",
    "plt.title(\"PalmerPenguins Dataset\")\n",
    "plt.xlabel('Culmen Length')\n",
    "plt.ylabel('Culmen Depth')\n",
    "\n",
    "plt.scatter(X[y == 0][:, 0], X[y == 0][:, 1], color=ORANGE, label='Adelie')\n",
    "plt.scatter(X[y == 1][:, 0], X[y == 1][:, 1], color=GRAY, label='Chinstrap')\n",
    "plt.scatter(X[y == 2][:, 0], X[y == 2][:, 1], color=RED, label='Gentoo')\n",
    "\n",
    "plt.legend();"
   ]
  },
  {
   "cell_type": "markdown",
   "metadata": {},
   "source": [
    "### Python Implementation"
   ]
  },
  {
   "cell_type": "code",
   "execution_count": 17,
   "metadata": {},
   "outputs": [],
   "source": [
    "class MyKNearestNeighbors():\n",
    "    '''Implements algorithm for K-Nearest Neighbors'''\n",
    "    def __init__(self, num_neighbors=5, num_clasess=3):\n",
    "        self.num_neighbors = num_neighbors\n",
    "        self.num_clasess = num_clasess\n",
    "\n",
    "    def __euclidian_distance(self, a, b):\n",
    "        return np.sqrt(np.sum((a - b)**2, axis=1))\n",
    "\n",
    "    def __get_neighbours(self, X_test, return_distance=False):\n",
    "        neighbours = []\n",
    "\n",
    "        test_train_distances = [self.__euclidian_distance(x_test, self.X_train) for x_test in X_test]\n",
    "\n",
    "        for row in test_train_distances:\n",
    "            enumerated_neighbours = enumerate(row)\n",
    "            sorted_neighbours = sorted(enumerated_neighbours, key=lambda x: x[1])[:self.num_neighbors]\n",
    "\n",
    "            index_list = [tup[0] for tup in sorted_neighbours]\n",
    "\n",
    "            neighbours.append(index_list)\n",
    "      \n",
    "        return np.array(neighbours)\n",
    "    \n",
    "    def fit(self, X_train, y_train):\n",
    "        self.X_train = X_train\n",
    "        self.y_train = y_train\n",
    "\n",
    "    def predict(self, X_test):\n",
    "        neighbors = self.__get_neighbours(X_test)\n",
    "        preditions = np.array([\n",
    "            np.argmax(np.bincount(self.y_train[neighbor]))\n",
    "            for neighbor in neighbors\n",
    "        ])\n",
    "\n",
    "        return preditions"
   ]
  },
  {
   "cell_type": "code",
   "execution_count": 18,
   "metadata": {},
   "outputs": [],
   "source": [
    "model = MyKNearestNeighbors()\n",
    "model.fit(X_train, y_train)"
   ]
  },
  {
   "cell_type": "code",
   "execution_count": 19,
   "metadata": {},
   "outputs": [
    {
     "name": "stdout",
     "output_type": "stream",
     "text": [
      "              precision    recall  f1-score   support\n",
      "\n",
      "           0       1.00      0.96      0.98        25\n",
      "           1       0.83      1.00      0.91        10\n",
      "           2       1.00      0.97      0.99        34\n",
      "\n",
      "    accuracy                           0.97        69\n",
      "   macro avg       0.94      0.98      0.96        69\n",
      "weighted avg       0.98      0.97      0.97        69\n",
      "\n"
     ]
    }
   ],
   "source": [
    "my_knn_predictions = model.predict(X_test)\n",
    "print(metrics.classification_report(y_test, my_knn_predictions))"
   ]
  },
  {
   "cell_type": "code",
   "execution_count": 20,
   "metadata": {},
   "outputs": [
    {
     "data": {
      "text/html": [
       "<div>\n",
       "<style scoped>\n",
       "    .dataframe tbody tr th:only-of-type {\n",
       "        vertical-align: middle;\n",
       "    }\n",
       "\n",
       "    .dataframe tbody tr th {\n",
       "        vertical-align: top;\n",
       "    }\n",
       "\n",
       "    .dataframe thead th {\n",
       "        text-align: right;\n",
       "    }\n",
       "</style>\n",
       "<table border=\"1\" class=\"dataframe\">\n",
       "  <thead>\n",
       "    <tr style=\"text-align: right;\">\n",
       "      <th></th>\n",
       "      <th>Actual Value</th>\n",
       "      <th>KNN Predictions</th>\n",
       "    </tr>\n",
       "  </thead>\n",
       "  <tbody>\n",
       "    <tr>\n",
       "      <th>0</th>\n",
       "      <td>0</td>\n",
       "      <td>0</td>\n",
       "    </tr>\n",
       "    <tr>\n",
       "      <th>1</th>\n",
       "      <td>2</td>\n",
       "      <td>2</td>\n",
       "    </tr>\n",
       "    <tr>\n",
       "      <th>2</th>\n",
       "      <td>0</td>\n",
       "      <td>0</td>\n",
       "    </tr>\n",
       "    <tr>\n",
       "      <th>3</th>\n",
       "      <td>2</td>\n",
       "      <td>2</td>\n",
       "    </tr>\n",
       "    <tr>\n",
       "      <th>4</th>\n",
       "      <td>2</td>\n",
       "      <td>2</td>\n",
       "    </tr>\n",
       "    <tr>\n",
       "      <th>...</th>\n",
       "      <td>...</td>\n",
       "      <td>...</td>\n",
       "    </tr>\n",
       "    <tr>\n",
       "      <th>64</th>\n",
       "      <td>0</td>\n",
       "      <td>0</td>\n",
       "    </tr>\n",
       "    <tr>\n",
       "      <th>65</th>\n",
       "      <td>2</td>\n",
       "      <td>2</td>\n",
       "    </tr>\n",
       "    <tr>\n",
       "      <th>66</th>\n",
       "      <td>2</td>\n",
       "      <td>2</td>\n",
       "    </tr>\n",
       "    <tr>\n",
       "      <th>67</th>\n",
       "      <td>1</td>\n",
       "      <td>1</td>\n",
       "    </tr>\n",
       "    <tr>\n",
       "      <th>68</th>\n",
       "      <td>0</td>\n",
       "      <td>0</td>\n",
       "    </tr>\n",
       "  </tbody>\n",
       "</table>\n",
       "<p>69 rows × 2 columns</p>\n",
       "</div>"
      ],
      "text/plain": [
       "    Actual Value  KNN Predictions\n",
       "0              0                0\n",
       "1              2                2\n",
       "2              0                0\n",
       "3              2                2\n",
       "4              2                2\n",
       "..           ...              ...\n",
       "64             0                0\n",
       "65             2                2\n",
       "66             2                2\n",
       "67             1                1\n",
       "68             0                0\n",
       "\n",
       "[69 rows x 2 columns]"
      ]
     },
     "execution_count": 20,
     "metadata": {},
     "output_type": "execute_result"
    }
   ],
   "source": [
    "pd.DataFrame({\n",
    "    'Actual Value': y_test,\n",
    "    'KNN Predictions': my_knn_predictions,\n",
    "})"
   ]
  },
  {
   "cell_type": "code",
   "execution_count": 21,
   "metadata": {},
   "outputs": [
    {
     "data": {
      "image/png": "[encoded data removed]",
      "text/plain": [
       "<Figure size 792x360 with 1 Axes>"
      ]
     },
     "metadata": {},
     "output_type": "display_data"
    }
   ],
   "source": [
    "h = .02\n",
    "x_min, x_max = X[:, 0].min() - 1, X[:, 0].max() + 1\n",
    "y_min, y_max = X[:, 1].min() - 1, X[:, 1].max() + 1\n",
    "xx, yy = np.meshgrid(np.arange(x_min, x_max, h), np.arange(y_min, y_max, h))\n",
    "\n",
    "plt.figure(figsize=(11, 5))\n",
    "\n",
    "predictions = model.predict(np.c_[xx.ravel(), yy.ravel()])\n",
    "\n",
    "predictions = predictions.reshape(xx.shape)\n",
    "plt.contourf(xx, yy, predictions, cmap='YlOrRd', alpha=0.8)\n",
    "\n",
    "plt.title(\"MyKNearestNeighbors\")\n",
    "plt.xlabel('Culmen Length')\n",
    "plt.ylabel('Culmen Depth')\n",
    "\n",
    "plt.scatter(X[y == 0][:, 0], X[y == 0][:, 1], color=ORANGE, label='Adelie')\n",
    "plt.scatter(X[y == 1][:, 0], X[y == 1][:, 1], color=GRAY, label='Chinstrap')\n",
    "plt.scatter(X[y == 2][:, 0], X[y == 2][:, 1], color=RED, label='Gentoo')\n",
    "\n",
    "plt.xlim(xx.min(), xx.max())\n",
    "plt.ylim(yy.min(), yy.max())\n",
    "plt.xticks(())\n",
    "plt.yticks(())\n",
    "\n",
    "plt.show()"
   ]
  },
  {
   "cell_type": "markdown",
   "metadata": {},
   "source": [
    "### Using SkLearn"
   ]
  },
  {
   "cell_type": "code",
   "execution_count": 22,
   "metadata": {},
   "outputs": [
    {
     "name": "stdout",
     "output_type": "stream",
     "text": [
      "0.9710144927536232\n"
     ]
    }
   ],
   "source": [
    "model = KNeighborsClassifier(n_neighbors=5)\n",
    "model.fit(X_train, y_train)\n",
    "\n",
    "print(model.score(X_test, y_test))"
   ]
  },
  {
   "cell_type": "code",
   "execution_count": 24,
   "metadata": {},
   "outputs": [
    {
     "name": "stdout",
     "output_type": "stream",
     "text": [
      "              precision    recall  f1-score   support\n",
      "\n",
      "           0       1.00      0.96      0.98        25\n",
      "           1       0.83      1.00      0.91        10\n",
      "           2       1.00      0.97      0.99        34\n",
      "\n",
      "    accuracy                           0.97        69\n",
      "   macro avg       0.94      0.98      0.96        69\n",
      "weighted avg       0.98      0.97      0.97        69\n",
      "\n"
     ]
    },
    {
     "data": {
      "text/html": [
       "<div>\n",
       "<style scoped>\n",
       "    .dataframe tbody tr th:only-of-type {\n",
       "        vertical-align: middle;\n",
       "    }\n",
       "\n",
       "    .dataframe tbody tr th {\n",
       "        vertical-align: top;\n",
       "    }\n",
       "\n",
       "    .dataframe thead th {\n",
       "        text-align: right;\n",
       "    }\n",
       "</style>\n",
       "<table border=\"1\" class=\"dataframe\">\n",
       "  <thead>\n",
       "    <tr style=\"text-align: right;\">\n",
       "      <th></th>\n",
       "      <th>Actual Value</th>\n",
       "      <th>KNN Predictions</th>\n",
       "      <th>SciKit Learn KNN</th>\n",
       "    </tr>\n",
       "  </thead>\n",
       "  <tbody>\n",
       "    <tr>\n",
       "      <th>0</th>\n",
       "      <td>0</td>\n",
       "      <td>0</td>\n",
       "      <td>0</td>\n",
       "    </tr>\n",
       "    <tr>\n",
       "      <th>1</th>\n",
       "      <td>2</td>\n",
       "      <td>2</td>\n",
       "      <td>2</td>\n",
       "    </tr>\n",
       "    <tr>\n",
       "      <th>2</th>\n",
       "      <td>0</td>\n",
       "      <td>0</td>\n",
       "      <td>0</td>\n",
       "    </tr>\n",
       "    <tr>\n",
       "      <th>3</th>\n",
       "      <td>2</td>\n",
       "      <td>2</td>\n",
       "      <td>2</td>\n",
       "    </tr>\n",
       "    <tr>\n",
       "      <th>4</th>\n",
       "      <td>2</td>\n",
       "      <td>2</td>\n",
       "      <td>2</td>\n",
       "    </tr>\n",
       "    <tr>\n",
       "      <th>...</th>\n",
       "      <td>...</td>\n",
       "      <td>...</td>\n",
       "      <td>...</td>\n",
       "    </tr>\n",
       "    <tr>\n",
       "      <th>64</th>\n",
       "      <td>0</td>\n",
       "      <td>0</td>\n",
       "      <td>0</td>\n",
       "    </tr>\n",
       "    <tr>\n",
       "      <th>65</th>\n",
       "      <td>2</td>\n",
       "      <td>2</td>\n",
       "      <td>2</td>\n",
       "    </tr>\n",
       "    <tr>\n",
       "      <th>66</th>\n",
       "      <td>2</td>\n",
       "      <td>2</td>\n",
       "      <td>2</td>\n",
       "    </tr>\n",
       "    <tr>\n",
       "      <th>67</th>\n",
       "      <td>1</td>\n",
       "      <td>1</td>\n",
       "      <td>1</td>\n",
       "    </tr>\n",
       "    <tr>\n",
       "      <th>68</th>\n",
       "      <td>0</td>\n",
       "      <td>0</td>\n",
       "      <td>0</td>\n",
       "    </tr>\n",
       "  </tbody>\n",
       "</table>\n",
       "<p>69 rows × 3 columns</p>\n",
       "</div>"
      ],
      "text/plain": [
       "    Actual Value  KNN Predictions  SciKit Learn KNN\n",
       "0              0                0                 0\n",
       "1              2                2                 2\n",
       "2              0                0                 0\n",
       "3              2                2                 2\n",
       "4              2                2                 2\n",
       "..           ...              ...               ...\n",
       "64             0                0                 0\n",
       "65             2                2                 2\n",
       "66             2                2                 2\n",
       "67             1                1                 1\n",
       "68             0                0                 0\n",
       "\n",
       "[69 rows x 3 columns]"
      ]
     },
     "execution_count": 24,
     "metadata": {},
     "output_type": "execute_result"
    }
   ],
   "source": [
    "sk_knn_predictions = model.predict(X_test)\n",
    "\n",
    "print(metrics.classification_report(y_test, sk_knn_predictions))\n",
    "\n",
    "pd.DataFrame({\n",
    "    'Actual Value': y_test,\n",
    "    'KNN Predictions': my_knn_predictions,\n",
    "    'SciKit Learn KNN': sk_knn_predictions,\n",
    "})"
   ]
  },
  {
   "cell_type": "code",
   "execution_count": 25,
   "metadata": {},
   "outputs": [
    {
     "data": {
      "image/png": "[encoded data removed]",
      "text/plain": [
       "<Figure size 792x360 with 1 Axes>"
      ]
     },
     "metadata": {},
     "output_type": "display_data"
    }
   ],
   "source": [
    "h = .02\n",
    "x_min, x_max = X[:, 0].min() - 1, X[:, 0].max() + 1\n",
    "y_min, y_max = X[:, 1].min() - 1, X[:, 1].max() + 1\n",
    "xx, yy = np.meshgrid(np.arange(x_min, x_max, h), np.arange(y_min, y_max, h))\n",
    "\n",
    "plt.figure(figsize=(11, 5))\n",
    "\n",
    "predictions = model.predict(np.c_[xx.ravel(), yy.ravel()])\n",
    "\n",
    "predictions = predictions.reshape(xx.shape)\n",
    "plt.contourf(xx, yy, predictions, cmap='YlOrRd', alpha=0.8)\n",
    "\n",
    "plt.title(\"SciKit Learn KNeighborsClassifier\")\n",
    "plt.xlabel('Culmen Length')\n",
    "plt.ylabel('Culmen Depth')\n",
    "\n",
    "plt.scatter(X[y == 0][:, 0], X[y == 0][:, 1], color=ORANGE, label='Adelie')\n",
    "plt.scatter(X[y == 1][:, 0], X[y == 1][:, 1], color=GRAY, label='Chinstrap')\n",
    "plt.scatter(X[y == 2][:, 0], X[y == 2][:, 1], color=RED, label='Gentoo')\n",
    "\n",
    "plt.xlim(xx.min(), xx.max())\n",
    "plt.ylim(yy.min(), yy.max())\n",
    "plt.xticks(())\n",
    "plt.yticks(())\n",
    "\n",
    "plt.show()"
   ]
  },
  {
   "cell_type": "markdown",
   "metadata": {},
   "source": [
    "## Naive Bias"
   ]
  },
  {
   "cell_type": "markdown",
   "metadata": {},
   "source": [
    "### Prepare the data for Naive Bias"
   ]
  },
  {
   "cell_type": "code",
   "execution_count": 26,
   "metadata": {},
   "outputs": [],
   "source": [
    "data = pd.read_csv('./data/penguins_size.csv')\n",
    "data = data.drop(['sex', 'island', 'flipper_length_mm', 'body_mass_g'], axis=1)\n",
    "\n",
    "data['culmen_length_mm'].fillna((data['culmen_length_mm'].mean()), inplace=True)\n",
    "data['culmen_depth_mm'].fillna((data['culmen_depth_mm'].mean()), inplace=True)\n",
    "\n",
    "ss = StandardScaler()\n",
    "\n",
    "# Prepare input\n",
    "X = data.drop(['species'], axis=1)\n",
    "columns = X.columns\n",
    "X = X.values\n",
    "X = ss.fit_transform(X)\n",
    "\n",
    "# Prepare target\n",
    "y = data['species']\n",
    "spicies = {'Adelie': 0, 'Chinstrap': 1, 'Gentoo': 2}\n",
    "\n",
    "y = [spicies[item] for item in y]\n",
    "y = np.array(y) \n",
    "\n",
    "# Split the data\n",
    "X_train, X_test, y_train, y_test = train_test_split(X, y, test_size=0.2, random_state=33)"
   ]
  },
  {
   "cell_type": "markdown",
   "metadata": {},
   "source": [
    "### Python Implementation"
   ]
  },
  {
   "cell_type": "code",
   "execution_count": 27,
   "metadata": {},
   "outputs": [],
   "source": [
    "class MyNaiveBias():\n",
    "    '''Implements algorithm for Naive Bias'''\n",
    "    def __init__(self, input_columns):\n",
    "        self.input_columns = input_columns\n",
    "        \n",
    "    def fit(self, X_train, y_train):\n",
    "        X_train = pd.DataFrame(X_train, columns = self.input_columns)\n",
    "        \n",
    "        self.classes = np.unique(y_train)\n",
    "        self.means = X_train.groupby(y_train).apply(np.mean)\n",
    "        self.stds = X_train.groupby(y_train).apply(np.std)\n",
    "        self.probabilities = X_train.groupby(y_train).apply(lambda x: len(x)) / X_train.shape[0]\n",
    "\n",
    "    def predict(self, X_test):\n",
    "        X_test = pd.DataFrame(X_test, columns = self.input_columns)\n",
    "        predictions = []\n",
    "        \n",
    "        for i in range(X_test.shape[0]):\n",
    "            p = {}\n",
    "            \n",
    "            for c in self.classes:\n",
    "                p[c] = self.probabilities[c]\n",
    "                \n",
    "                for index, row in enumerate(X_test.iloc[i]):\n",
    "                    p[c] *= norm.pdf(row, self.means.iloc[c, index], self.stds.iloc[c, index])\n",
    "        \n",
    "            predictions.append(pd.Series(p).values.argmax())\n",
    "\n",
    "        return predictions"
   ]
  },
  {
   "cell_type": "code",
   "execution_count": 28,
   "metadata": {},
   "outputs": [],
   "source": [
    "model = MyNaiveBias(columns)\n",
    "\n",
    "model.fit(X_train, y_train)"
   ]
  },
  {
   "cell_type": "code",
   "execution_count": 29,
   "metadata": {},
   "outputs": [
    {
     "name": "stdout",
     "output_type": "stream",
     "text": [
      "              precision    recall  f1-score   support\n",
      "\n",
      "           0       1.00      1.00      1.00        25\n",
      "           1       0.83      1.00      0.91        10\n",
      "           2       1.00      0.94      0.97        34\n",
      "\n",
      "    accuracy                           0.97        69\n",
      "   macro avg       0.94      0.98      0.96        69\n",
      "weighted avg       0.98      0.97      0.97        69\n",
      "\n"
     ]
    },
    {
     "data": {
      "text/html": [
       "<div>\n",
       "<style scoped>\n",
       "    .dataframe tbody tr th:only-of-type {\n",
       "        vertical-align: middle;\n",
       "    }\n",
       "\n",
       "    .dataframe tbody tr th {\n",
       "        vertical-align: top;\n",
       "    }\n",
       "\n",
       "    .dataframe thead th {\n",
       "        text-align: right;\n",
       "    }\n",
       "</style>\n",
       "<table border=\"1\" class=\"dataframe\">\n",
       "  <thead>\n",
       "    <tr style=\"text-align: right;\">\n",
       "      <th></th>\n",
       "      <th>Actual Value</th>\n",
       "      <th>Naive Bias Predictions</th>\n",
       "    </tr>\n",
       "  </thead>\n",
       "  <tbody>\n",
       "    <tr>\n",
       "      <th>0</th>\n",
       "      <td>0</td>\n",
       "      <td>0</td>\n",
       "    </tr>\n",
       "    <tr>\n",
       "      <th>1</th>\n",
       "      <td>2</td>\n",
       "      <td>2</td>\n",
       "    </tr>\n",
       "    <tr>\n",
       "      <th>2</th>\n",
       "      <td>0</td>\n",
       "      <td>0</td>\n",
       "    </tr>\n",
       "    <tr>\n",
       "      <th>3</th>\n",
       "      <td>2</td>\n",
       "      <td>2</td>\n",
       "    </tr>\n",
       "    <tr>\n",
       "      <th>4</th>\n",
       "      <td>2</td>\n",
       "      <td>2</td>\n",
       "    </tr>\n",
       "    <tr>\n",
       "      <th>...</th>\n",
       "      <td>...</td>\n",
       "      <td>...</td>\n",
       "    </tr>\n",
       "    <tr>\n",
       "      <th>64</th>\n",
       "      <td>0</td>\n",
       "      <td>0</td>\n",
       "    </tr>\n",
       "    <tr>\n",
       "      <th>65</th>\n",
       "      <td>2</td>\n",
       "      <td>2</td>\n",
       "    </tr>\n",
       "    <tr>\n",
       "      <th>66</th>\n",
       "      <td>2</td>\n",
       "      <td>2</td>\n",
       "    </tr>\n",
       "    <tr>\n",
       "      <th>67</th>\n",
       "      <td>1</td>\n",
       "      <td>1</td>\n",
       "    </tr>\n",
       "    <tr>\n",
       "      <th>68</th>\n",
       "      <td>0</td>\n",
       "      <td>0</td>\n",
       "    </tr>\n",
       "  </tbody>\n",
       "</table>\n",
       "<p>69 rows × 2 columns</p>\n",
       "</div>"
      ],
      "text/plain": [
       "    Actual Value  Naive Bias Predictions\n",
       "0              0                       0\n",
       "1              2                       2\n",
       "2              0                       0\n",
       "3              2                       2\n",
       "4              2                       2\n",
       "..           ...                     ...\n",
       "64             0                       0\n",
       "65             2                       2\n",
       "66             2                       2\n",
       "67             1                       1\n",
       "68             0                       0\n",
       "\n",
       "[69 rows x 2 columns]"
      ]
     },
     "execution_count": 29,
     "metadata": {},
     "output_type": "execute_result"
    }
   ],
   "source": [
    "my_naive_predictions = model.predict(X_test)\n",
    "\n",
    "print(metrics.classification_report(y_test, my_naive_predictions))\n",
    "\n",
    "pd.DataFrame({\n",
    "    'Actual Value': y_test,\n",
    "    'Naive Bias Predictions': my_naive_predictions,\n",
    "})"
   ]
  },
  {
   "cell_type": "markdown",
   "metadata": {},
   "source": [
    "### Using SkLearn"
   ]
  },
  {
   "cell_type": "code",
   "execution_count": 32,
   "metadata": {
    "scrolled": false
   },
   "outputs": [
    {
     "data": {
      "text/plain": [
       "GaussianNB(priors=None, var_smoothing=1e-09)"
      ]
     },
     "execution_count": 32,
     "metadata": {},
     "output_type": "execute_result"
    }
   ],
   "source": [
    "model = GaussianNB()\n",
    "model.fit(X_train, y_train)"
   ]
  },
  {
   "cell_type": "code",
   "execution_count": 35,
   "metadata": {},
   "outputs": [
    {
     "name": "stdout",
     "output_type": "stream",
     "text": [
      "              precision    recall  f1-score   support\n",
      "\n",
      "           0       1.00      1.00      1.00        25\n",
      "           1       0.83      1.00      0.91        10\n",
      "           2       1.00      0.94      0.97        34\n",
      "\n",
      "    accuracy                           0.97        69\n",
      "   macro avg       0.94      0.98      0.96        69\n",
      "weighted avg       0.98      0.97      0.97        69\n",
      "\n"
     ]
    },
    {
     "data": {
      "text/html": [
       "<div>\n",
       "<style scoped>\n",
       "    .dataframe tbody tr th:only-of-type {\n",
       "        vertical-align: middle;\n",
       "    }\n",
       "\n",
       "    .dataframe tbody tr th {\n",
       "        vertical-align: top;\n",
       "    }\n",
       "\n",
       "    .dataframe thead th {\n",
       "        text-align: right;\n",
       "    }\n",
       "</style>\n",
       "<table border=\"1\" class=\"dataframe\">\n",
       "  <thead>\n",
       "    <tr style=\"text-align: right;\">\n",
       "      <th></th>\n",
       "      <th>Actual Value</th>\n",
       "      <th>Naive Bias Predictions</th>\n",
       "      <th>SciKit Learn Naive Bias</th>\n",
       "    </tr>\n",
       "  </thead>\n",
       "  <tbody>\n",
       "    <tr>\n",
       "      <th>0</th>\n",
       "      <td>0</td>\n",
       "      <td>0</td>\n",
       "      <td>0</td>\n",
       "    </tr>\n",
       "    <tr>\n",
       "      <th>1</th>\n",
       "      <td>2</td>\n",
       "      <td>2</td>\n",
       "      <td>2</td>\n",
       "    </tr>\n",
       "    <tr>\n",
       "      <th>2</th>\n",
       "      <td>0</td>\n",
       "      <td>0</td>\n",
       "      <td>0</td>\n",
       "    </tr>\n",
       "    <tr>\n",
       "      <th>3</th>\n",
       "      <td>2</td>\n",
       "      <td>2</td>\n",
       "      <td>2</td>\n",
       "    </tr>\n",
       "    <tr>\n",
       "      <th>4</th>\n",
       "      <td>2</td>\n",
       "      <td>2</td>\n",
       "      <td>2</td>\n",
       "    </tr>\n",
       "    <tr>\n",
       "      <th>...</th>\n",
       "      <td>...</td>\n",
       "      <td>...</td>\n",
       "      <td>...</td>\n",
       "    </tr>\n",
       "    <tr>\n",
       "      <th>64</th>\n",
       "      <td>0</td>\n",
       "      <td>0</td>\n",
       "      <td>0</td>\n",
       "    </tr>\n",
       "    <tr>\n",
       "      <th>65</th>\n",
       "      <td>2</td>\n",
       "      <td>2</td>\n",
       "      <td>2</td>\n",
       "    </tr>\n",
       "    <tr>\n",
       "      <th>66</th>\n",
       "      <td>2</td>\n",
       "      <td>2</td>\n",
       "      <td>2</td>\n",
       "    </tr>\n",
       "    <tr>\n",
       "      <th>67</th>\n",
       "      <td>1</td>\n",
       "      <td>1</td>\n",
       "      <td>1</td>\n",
       "    </tr>\n",
       "    <tr>\n",
       "      <th>68</th>\n",
       "      <td>0</td>\n",
       "      <td>0</td>\n",
       "      <td>0</td>\n",
       "    </tr>\n",
       "  </tbody>\n",
       "</table>\n",
       "<p>69 rows × 3 columns</p>\n",
       "</div>"
      ],
      "text/plain": [
       "    Actual Value  Naive Bias Predictions  SciKit Learn Naive Bias\n",
       "0              0                       0                        0\n",
       "1              2                       2                        2\n",
       "2              0                       0                        0\n",
       "3              2                       2                        2\n",
       "4              2                       2                        2\n",
       "..           ...                     ...                      ...\n",
       "64             0                       0                        0\n",
       "65             2                       2                        2\n",
       "66             2                       2                        2\n",
       "67             1                       1                        1\n",
       "68             0                       0                        0\n",
       "\n",
       "[69 rows x 3 columns]"
      ]
     },
     "execution_count": 35,
     "metadata": {},
     "output_type": "execute_result"
    }
   ],
   "source": [
    "sk_nb_predictions = model.predict(X_test)\n",
    "\n",
    "print(metrics.classification_report(y_test, sk_nb_predictions))\n",
    "\n",
    "pd.DataFrame({\n",
    "    'Actual Value': y_test,\n",
    "    'Naive Bias Predictions': my_naive_predictions,\n",
    "    'SciKit Learn Naive Bias': sk_nb_predictions,\n",
    "})"
   ]
  },
  {
   "cell_type": "code",
   "execution_count": 36,
   "metadata": {},
   "outputs": [
    {
     "data": {
      "image/png": "[encoded data removed]",
      "text/plain": [
       "<Figure size 792x360 with 1 Axes>"
      ]
     },
     "metadata": {},
     "output_type": "display_data"
    }
   ],
   "source": [
    "h = .02\n",
    "x_min, x_max = X[:, 0].min() - 1, X[:, 0].max() + 1\n",
    "y_min, y_max = X[:, 1].min() - 1, X[:, 1].max() + 1\n",
    "xx, yy = np.meshgrid(np.arange(x_min, x_max, h), np.arange(y_min, y_max, h))\n",
    "\n",
    "plt.figure(figsize=(11, 5))\n",
    "\n",
    "predictions = model.predict(np.c_[xx.ravel(), yy.ravel()])\n",
    "\n",
    "predictions = predictions.reshape(xx.shape)\n",
    "plt.contourf(xx, yy, predictions, cmap='YlOrRd', alpha=0.8)\n",
    "\n",
    "plt.title(\"SciKit Learn GaussianNB\")\n",
    "plt.xlabel('Culmen Length')\n",
    "plt.ylabel('Culmen Depth')\n",
    "\n",
    "plt.scatter(X[y == 0][:, 0], X[y == 0][:, 1], color=ORANGE, label='Adelie')\n",
    "plt.scatter(X[y == 1][:, 0], X[y == 1][:, 1], color=GRAY, label='Chinstrap')\n",
    "plt.scatter(X[y == 2][:, 0], X[y == 2][:, 1], color=RED, label='Gentoo')\n",
    "\n",
    "plt.xlim(xx.min(), xx.max())\n",
    "plt.ylim(yy.min(), yy.max())\n",
    "plt.xticks(())\n",
    "plt.yticks(())\n",
    "\n",
    "plt.show()"
   ]
  }
 ],
 "metadata": {
  "kernelspec": {
   "display_name": "Python 3",
   "language": "python",
   "name": "python3"
  },
  "language_info": {
   "codemirror_mode": {
    "name": "ipython",
    "version": 3
   },
   "file_extension": ".py",
   "mimetype": "text/x-python",
   "name": "python",
   "nbconvert_exporter": "python",
   "pygments_lexer": "ipython3",
   "version": "3.7.6"
  }
 },
 "nbformat": 4,
 "nbformat_minor": 4
}
