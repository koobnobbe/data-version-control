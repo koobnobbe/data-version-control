{
 "cells": [
  {
   "cell_type": "code",
   "execution_count": 1,
   "metadata": {},
   "outputs": [],
   "source": [
    "import pandas as pd\n",
    "import numpy as np\n",
    "import matplotlib.pyplot as plt\n",
    "from math import sqrt\n",
    "\n",
    "import sklearn.metrics as metrics\n",
    "from sklearn.model_selection import train_test_split\n",
    "from sklearn.ensemble import RandomForestClassifier, RandomForestRegressor"
   ]
  },
  {
   "cell_type": "code",
   "execution_count": 2,
   "metadata": {},
   "outputs": [],
   "source": [
    "# Globals\n",
    "ORANGE = '#F2BE4A'\n",
    "RED = '#ef4123'\n",
    "GRAY = '#545453'"
   ]
  },
  {
   "cell_type": "markdown",
   "metadata": {},
   "source": [
    "## Random Forest"
   ]
  },
  {
   "cell_type": "markdown",
   "metadata": {},
   "source": [
    "## Classification"
   ]
  },
  {
   "cell_type": "markdown",
   "metadata": {},
   "source": [
    "### Prepare Dataset"
   ]
  },
  {
   "cell_type": "code",
   "execution_count": 3,
   "metadata": {},
   "outputs": [],
   "source": [
    "data = pd.read_csv('./data/penguins_size.csv')\n",
    "\n",
    "data = data.dropna()\n",
    "data = data.drop(['sex', 'island', 'flipper_length_mm', 'body_mass_g'], axis=1)\n",
    "data = data[data['species'] != 'Chinstrap']\n",
    "\n",
    "X = data.drop(['species'], axis=1).values\n",
    "\n",
    "y = data['species']\n",
    "species = {'Adelie': 1, 'Gentoo': 2}\n",
    "y = [species[item] for item in y]\n",
    "y = np.array(y) \n",
    "\n",
    "# Remove sample that is too close\n",
    "X = np.delete(X, 182, axis=0)\n",
    "y = np.delete(y, 182, axis=0)"
   ]
  },
  {
   "cell_type": "code",
   "execution_count": 4,
   "metadata": {},
   "outputs": [],
   "source": [
    "X_train, X_test, y_train, y_test = train_test_split(X, y, test_size=0.2, random_state=33)"
   ]
  },
  {
   "cell_type": "code",
   "execution_count": 5,
   "metadata": {
    "scrolled": false
   },
   "outputs": [
    {
     "data": {
      "image/png": "[encoded data removed]",
      "text/plain": [
       "<Figure size 792x360 with 1 Axes>"
      ]
     },
     "metadata": {
      "needs_background": "light"
     },
     "output_type": "display_data"
    }
   ],
   "source": [
    "plt.figure(figsize=(11, 5))\n",
    "\n",
    "plt.title(\"PalmerPenguins Dataset\")\n",
    "plt.xlabel('Culmen Length')\n",
    "plt.ylabel('Culmen Depth')\n",
    "\n",
    "plt.scatter(X[y == 1][:, 0], X[y == 1][:, 1], color=ORANGE, label='Adelie')\n",
    "plt.scatter(X[y == 2][:, 0], X[y == 2][:, 1], color=RED, label='Gentoo')\n",
    "\n",
    "plt.legend();"
   ]
  },
  {
   "cell_type": "markdown",
   "metadata": {},
   "source": [
    "### Python Implementation"
   ]
  },
  {
   "cell_type": "code",
   "execution_count": 6,
   "metadata": {},
   "outputs": [],
   "source": [
    "class MyGiniCalculator():\n",
    "   \n",
    "    def _single_class_gini(self, class_count, total_instances_count):\n",
    "        return -(class_count/total_instances_count)\n",
    "    \n",
    "    def _group_gini(self, class1_count, class2_count):\n",
    "        if class1_count == 0 or class2_count == 0:\n",
    "            return 0\n",
    "        \n",
    "        total_count = class1_count + class2_count\n",
    "        return self._single_class_gini(class1_count, total_count) + self._single_class_gini(class2_count, total_count)\n",
    "    \n",
    "    def _leaf_gini(self, data):\n",
    "        gini = 0\n",
    "        \n",
    "        num_istances = len(data)\n",
    "        classes = set(data)\n",
    "        \n",
    "        for classs in classes:\n",
    "            class_count = sum(data == classs)\n",
    "            gini += class_count * 1.0/num_istances * self._group_gini(sum(data == classs), sum(data != classs))\n",
    "        \n",
    "        return gini, num_istances\n",
    "    \n",
    "    def get_gini(self, is_left, y):\n",
    "        if len(is_left) != len(y):\n",
    "            print('Wrong length')\n",
    "            return None\n",
    "        \n",
    "        num_istances = len(y)\n",
    "        left_gini, left_count = self._leaf_gini(y[is_left])\n",
    "        right_gini, right_count = self._leaf_gini(y[~is_left])\n",
    "\n",
    "        total_gini = left_count*1.0/num_istances * left_gini + right_count*1.0/num_istances * right_gini \n",
    "        \n",
    "        return total_gini\n",
    "    \n",
    "class MyDecissionTreeClassifier():\n",
    "    def __init__(self, feature_names, max_depth = 5):\n",
    "        self.gini_calculator = MyGiniCalculator()\n",
    "        self.feature_names = feature_names\n",
    "        self.max_depth = max_depth\n",
    "        self.depth = 0\n",
    "    \n",
    "    def _get_best_feature_split(self, feature, y):\n",
    "        min_gini = 10\n",
    "        \n",
    "        for value in set(feature):\n",
    "            is_left = feature < value\n",
    "            gini = self.gini_calculator.get_gini(is_left, y)\n",
    "            if gini < min_gini:\n",
    "                min_gini = gini\n",
    "            cutoff = value\n",
    "            \n",
    "        return min_gini, cutoff\n",
    "    \n",
    "    def _get_best_split(self, X, y):\n",
    "        feature = None\n",
    "        min_gini = 1\n",
    "        cutoff = None\n",
    "        \n",
    "        for i, c in enumerate(X.T):\n",
    "            gini, cur_cutoff = self._get_best_feature_split(c, y)\n",
    "            \n",
    "            if gini == 0: \n",
    "                return i, cur_cutoff, gini\n",
    "            elif gini <= min_gini:\n",
    "                min_gini = gini\n",
    "                feature = i\n",
    "                cutoff = cur_cutoff\n",
    "                \n",
    "        return feature, cutoff, min_gini\n",
    "    \n",
    "    def _get_prediction(self, row):\n",
    "        cur_layer = self.trees\n",
    "        \n",
    "        while cur_layer:\n",
    "            prev_layer = cur_layer\n",
    "\n",
    "            if row[cur_layer['index']] < cur_layer['cutoff']:\n",
    "                cur_layer = cur_layer['left']\n",
    "            else:\n",
    "                cur_layer = cur_layer['right']          \n",
    "        else:\n",
    "            return prev_layer.get('value')\n",
    "    \n",
    "    def fit(self, X, y, parent_leaf={}, depth=0):\n",
    "        \n",
    "        if parent_leaf is None or len(y) == 0 or depth >= self.max_depth: \n",
    "            return None\n",
    "\n",
    "        feature, cutoff, gini = self._get_best_split(X, y)\n",
    "        y_left = y[X[:, feature] < cutoff]\n",
    "        y_right = y[X[:, feature] >= cutoff]\n",
    "        \n",
    "        parent_leaf = {\n",
    "            'feature': self.feature_names[feature], \n",
    "            'index': feature,\n",
    "            'cutoff': cutoff,\n",
    "            'value': np.round(np.mean(y))}\n",
    "        \n",
    "        \n",
    "        parent_leaf['left'] = self.fit(X[X[:, feature] < cutoff], y_left, {}, depth+1)\n",
    "        parent_leaf['right'] = self.fit(X[X[:, feature] >= cutoff], y_right, {}, depth+1)\n",
    "        \n",
    "        self.depth += 1 \n",
    "        self.trees = parent_leaf\n",
    "        \n",
    "        return parent_leaf   \n",
    "    \n",
    "    def predict(self, X):\n",
    "        results = np.array([0]*len(X))\n",
    "        \n",
    "        for i, row in enumerate(X):\n",
    "            results[i] = self._get_prediction(row)\n",
    "            \n",
    "        return results"
   ]
  },
  {
   "cell_type": "code",
   "execution_count": 7,
   "metadata": {},
   "outputs": [],
   "source": [
    "class MyRandomForest():\n",
    "    def __init__(self, num_trees, feature_names, max_features, max_depth=5):\n",
    "        self.num_trees = num_trees\n",
    "        self.max_depth = max_depth\n",
    "        self.max_features = max_features\n",
    "        \n",
    "        self.trees = []\n",
    "        for _ in range(num_trees):\n",
    "            self.trees.append(MyDecissionTreeClassifier(feature_names, self.max_depth))\n",
    "                \n",
    "    def get_random_subsets(self, X, y, num_subsets):\n",
    "        num_samples = np.shape(X)[0]\n",
    "\n",
    "        X_y = np.concatenate((X, y.reshape((1, len(y))).T), axis=1)\n",
    "        np.random.shuffle(X_y)\n",
    "\n",
    "        subsets = []\n",
    "        subsample_size = int(num_samples // 2)\n",
    "\n",
    "        for _ in range(num_subsets):\n",
    "            index = np.random.choice(\n",
    "                range(num_samples),\n",
    "                size=np.shape(range(subsample_size)),\n",
    "                replace=True)\n",
    "\n",
    "            X = X_y[index][:, :-1]\n",
    "            y = X_y[index][:, -1]\n",
    "\n",
    "            subsets.append([X, y])\n",
    "\n",
    "        return subsets        \n",
    "        \n",
    "    def fit(self, X, y):\n",
    "        num_features = np.shape(X)[1]\n",
    "        subsets = self.get_random_subsets(X, y, self.num_trees)\n",
    "\n",
    "        for i in range(self.num_trees):\n",
    "            X_subset, y_subset = subsets[i]\n",
    "                \n",
    "            # Feature bagging\n",
    "            idx = np.random.choice(range(num_features), size=self.max_features, replace=True)\n",
    "            self.trees[i].feature_indices = idx\n",
    "            X_subset = X_subset[:, idx]\n",
    "            self.trees[i].fit(X_subset, y_subset)\n",
    "         \n",
    "    \n",
    "    def predict(self, X):\n",
    "        y_preds = np.empty((X.shape[0], len(self.trees)))\n",
    "                \n",
    "        for i, tree in enumerate(self.trees):\n",
    "            idx = tree.feature_indices\n",
    "            prediction = tree.predict(X[:, idx])\n",
    "            y_preds[:, i] = prediction\n",
    "            \n",
    "        y_pred = []\n",
    "        for sample_predictions in y_preds:\n",
    "            y_pred.append(np.bincount(sample_predictions.astype('int')).argmax())\n",
    "                \n",
    "        return y_pred"
   ]
  },
  {
   "cell_type": "code",
   "execution_count": 8,
   "metadata": {},
   "outputs": [
    {
     "name": "stdout",
     "output_type": "stream",
     "text": [
      "              precision    recall  f1-score   support\n",
      "\n",
      "           1       0.62      1.00      0.77        28\n",
      "           2       1.00      0.32      0.48        25\n",
      "\n",
      "    accuracy                           0.68        53\n",
      "   macro avg       0.81      0.66      0.63        53\n",
      "weighted avg       0.80      0.68      0.63        53\n",
      "\n"
     ]
    }
   ],
   "source": [
    "model = MyRandomForest(feature_names=data.drop(['species'], axis=1).columns, num_trees=11, max_features=2)\n",
    "tree = model.fit(X_train, y_train)\n",
    "\n",
    "predictions = model.predict(X_test)\n",
    "print(metrics.classification_report(y_test, predictions))"
   ]
  },
  {
   "cell_type": "markdown",
   "metadata": {},
   "source": [
    "### Using SciKit Learn"
   ]
  },
  {
   "cell_type": "code",
   "execution_count": 9,
   "metadata": {},
   "outputs": [
    {
     "name": "stdout",
     "output_type": "stream",
     "text": [
      "              precision    recall  f1-score   support\n",
      "\n",
      "           1       1.00      1.00      1.00        28\n",
      "           2       1.00      1.00      1.00        25\n",
      "\n",
      "    accuracy                           1.00        53\n",
      "   macro avg       1.00      1.00      1.00        53\n",
      "weighted avg       1.00      1.00      1.00        53\n",
      "\n"
     ]
    }
   ],
   "source": [
    "rf_classifier = RandomForestClassifier(n_estimators=11, max_leaf_nodes=16, n_jobs=-1)\n",
    "rf_classifier.fit(X_train, y_train)\n",
    "\n",
    "rf_predictions = rf_classifier.predict(X_test)\n",
    "print(metrics.classification_report(y_test, rf_predictions))"
   ]
  },
  {
   "cell_type": "code",
   "execution_count": 10,
   "metadata": {
    "scrolled": false
   },
   "outputs": [
    {
     "data": {
      "image/png": "[encoded data removed]",
      "text/plain": [
       "<Figure size 792x360 with 1 Axes>"
      ]
     },
     "metadata": {},
     "output_type": "display_data"
    }
   ],
   "source": [
    "h = .02\n",
    "x_min, x_max = X[:, 0].min() - 1, X[:, 0].max() + 1\n",
    "y_min, y_max = X[:, 1].min() - 1, X[:, 1].max() + 1\n",
    "xx, yy = np.meshgrid(np.arange(x_min, x_max, h),\n",
    "                     np.arange(y_min, y_max, h))\n",
    "\n",
    "plt.figure(figsize=(11, 5))\n",
    "\n",
    "plt.subplot(1, 1, 1)\n",
    "plt.subplots_adjust(wspace=0.5, hspace=0.5)\n",
    "\n",
    "Z = rf_classifier.predict(np.c_[xx.ravel(), yy.ravel()])\n",
    "\n",
    "Z = Z.reshape(xx.shape)\n",
    "plt.contourf(xx, yy, Z, cmap='YlOrRd', alpha=0.8)\n",
    "\n",
    "plt.scatter(X[y == 1][:, 0], X[y == 1][:, 1], color='orange', label='Adelie')\n",
    "plt.scatter(X[y == 2][:, 0], X[y == 2][:, 1], color='gray', label='Gentoo')\n",
    "\n",
    "plt.xlim(xx.min(), xx.max())\n",
    "plt.ylim(yy.min(), yy.max())\n",
    "plt.xticks(())\n",
    "plt.yticks(())\n",
    "\n",
    "plt.title('RandomForestClassifier')\n",
    "plt.xlabel('Culmen Length')\n",
    "plt.ylabel('Culmen Depth')\n",
    "\n",
    "plt.show()"
   ]
  },
  {
   "cell_type": "markdown",
   "metadata": {},
   "source": [
    "## Regression"
   ]
  },
  {
   "cell_type": "code",
   "execution_count": 11,
   "metadata": {},
   "outputs": [],
   "source": [
    "def print_evaluation_metrics(actual_values, predictions):\n",
    "    print (f'MAE: {metrics.mean_absolute_error(actual_values, predictions)}')\n",
    "    print (f'MSE: {metrics.mean_squared_error(actual_values, predictions)}')\n",
    "    print(f'RMSE: {sqrt(metrics.mean_squared_error(actual_values, predictions))}')\n",
    "    print (f'R Squared: {metrics.r2_score(actual_values, predictions)}')"
   ]
  },
  {
   "cell_type": "markdown",
   "metadata": {},
   "source": [
    "### Prepare the data"
   ]
  },
  {
   "cell_type": "code",
   "execution_count": 12,
   "metadata": {},
   "outputs": [
    {
     "data": {
      "text/html": [
       "<div>\n",
       "<style scoped>\n",
       "    .dataframe tbody tr th:only-of-type {\n",
       "        vertical-align: middle;\n",
       "    }\n",
       "\n",
       "    .dataframe tbody tr th {\n",
       "        vertical-align: top;\n",
       "    }\n",
       "\n",
       "    .dataframe thead th {\n",
       "        text-align: right;\n",
       "    }\n",
       "</style>\n",
       "<table border=\"1\" class=\"dataframe\">\n",
       "  <thead>\n",
       "    <tr style=\"text-align: right;\">\n",
       "      <th></th>\n",
       "      <th>crim</th>\n",
       "      <th>zn</th>\n",
       "      <th>indus</th>\n",
       "      <th>chas</th>\n",
       "      <th>nox</th>\n",
       "      <th>rm</th>\n",
       "      <th>age</th>\n",
       "      <th>dis</th>\n",
       "      <th>rad</th>\n",
       "      <th>tax</th>\n",
       "      <th>ptratio</th>\n",
       "      <th>b</th>\n",
       "      <th>lstat</th>\n",
       "      <th>medv</th>\n",
       "    </tr>\n",
       "  </thead>\n",
       "  <tbody>\n",
       "    <tr>\n",
       "      <th>0</th>\n",
       "      <td>0.00632</td>\n",
       "      <td>18.0</td>\n",
       "      <td>2.31</td>\n",
       "      <td>0</td>\n",
       "      <td>0.538</td>\n",
       "      <td>6.575</td>\n",
       "      <td>65.2</td>\n",
       "      <td>4.0900</td>\n",
       "      <td>1</td>\n",
       "      <td>296</td>\n",
       "      <td>15.3</td>\n",
       "      <td>396.90</td>\n",
       "      <td>4.98</td>\n",
       "      <td>24.0</td>\n",
       "    </tr>\n",
       "    <tr>\n",
       "      <th>1</th>\n",
       "      <td>0.02731</td>\n",
       "      <td>0.0</td>\n",
       "      <td>7.07</td>\n",
       "      <td>0</td>\n",
       "      <td>0.469</td>\n",
       "      <td>6.421</td>\n",
       "      <td>78.9</td>\n",
       "      <td>4.9671</td>\n",
       "      <td>2</td>\n",
       "      <td>242</td>\n",
       "      <td>17.8</td>\n",
       "      <td>396.90</td>\n",
       "      <td>9.14</td>\n",
       "      <td>21.6</td>\n",
       "    </tr>\n",
       "    <tr>\n",
       "      <th>2</th>\n",
       "      <td>0.02729</td>\n",
       "      <td>0.0</td>\n",
       "      <td>7.07</td>\n",
       "      <td>0</td>\n",
       "      <td>0.469</td>\n",
       "      <td>7.185</td>\n",
       "      <td>61.1</td>\n",
       "      <td>4.9671</td>\n",
       "      <td>2</td>\n",
       "      <td>242</td>\n",
       "      <td>17.8</td>\n",
       "      <td>392.83</td>\n",
       "      <td>4.03</td>\n",
       "      <td>34.7</td>\n",
       "    </tr>\n",
       "    <tr>\n",
       "      <th>3</th>\n",
       "      <td>0.03237</td>\n",
       "      <td>0.0</td>\n",
       "      <td>2.18</td>\n",
       "      <td>0</td>\n",
       "      <td>0.458</td>\n",
       "      <td>6.998</td>\n",
       "      <td>45.8</td>\n",
       "      <td>6.0622</td>\n",
       "      <td>3</td>\n",
       "      <td>222</td>\n",
       "      <td>18.7</td>\n",
       "      <td>394.63</td>\n",
       "      <td>2.94</td>\n",
       "      <td>33.4</td>\n",
       "    </tr>\n",
       "    <tr>\n",
       "      <th>4</th>\n",
       "      <td>0.06905</td>\n",
       "      <td>0.0</td>\n",
       "      <td>2.18</td>\n",
       "      <td>0</td>\n",
       "      <td>0.458</td>\n",
       "      <td>7.147</td>\n",
       "      <td>54.2</td>\n",
       "      <td>6.0622</td>\n",
       "      <td>3</td>\n",
       "      <td>222</td>\n",
       "      <td>18.7</td>\n",
       "      <td>396.90</td>\n",
       "      <td>5.33</td>\n",
       "      <td>36.2</td>\n",
       "    </tr>\n",
       "  </tbody>\n",
       "</table>\n",
       "</div>"
      ],
      "text/plain": [
       "      crim    zn  indus  chas    nox     rm   age     dis  rad  tax  ptratio  \\\n",
       "0  0.00632  18.0   2.31     0  0.538  6.575  65.2  4.0900    1  296     15.3   \n",
       "1  0.02731   0.0   7.07     0  0.469  6.421  78.9  4.9671    2  242     17.8   \n",
       "2  0.02729   0.0   7.07     0  0.469  7.185  61.1  4.9671    2  242     17.8   \n",
       "3  0.03237   0.0   2.18     0  0.458  6.998  45.8  6.0622    3  222     18.7   \n",
       "4  0.06905   0.0   2.18     0  0.458  7.147  54.2  6.0622    3  222     18.7   \n",
       "\n",
       "        b  lstat  medv  \n",
       "0  396.90   4.98  24.0  \n",
       "1  396.90   9.14  21.6  \n",
       "2  392.83   4.03  34.7  \n",
       "3  394.63   2.94  33.4  \n",
       "4  396.90   5.33  36.2  "
      ]
     },
     "execution_count": 12,
     "metadata": {},
     "output_type": "execute_result"
    }
   ],
   "source": [
    "data = pd.read_csv('./data/boston_housing.csv')\n",
    "data.head()"
   ]
  },
  {
   "cell_type": "code",
   "execution_count": 13,
   "metadata": {},
   "outputs": [
    {
     "data": {
      "image/png": "[encoded data removed]",
      "text/plain": [
       "<Figure size 792x360 with 1 Axes>"
      ]
     },
     "metadata": {
      "needs_background": "light"
     },
     "output_type": "display_data"
    }
   ],
   "source": [
    "data = data.dropna()\n",
    "\n",
    "X = data['lstat'].values\n",
    "X = X.reshape(-1, 1)\n",
    "\n",
    "y = data['medv'].values\n",
    "\n",
    "X_train, X_test, y_train, y_test = train_test_split(X, y, test_size=0.2, random_state=33)\n",
    "\n",
    "plt.figure(figsize=(11, 5))\n",
    "\n",
    "plt.title(\"Boston Housing Dataset\")\n",
    "plt.xlabel('% lower status of the population')\n",
    "plt.ylabel('Median value')\n",
    "\n",
    "plt.scatter(x = X, y = y, color=ORANGE)\n",
    "plt.show()"
   ]
  },
  {
   "cell_type": "markdown",
   "metadata": {},
   "source": [
    "### Using Sci-Kit Learn"
   ]
  },
  {
   "cell_type": "code",
   "execution_count": 14,
   "metadata": {},
   "outputs": [
    {
     "name": "stdout",
     "output_type": "stream",
     "text": [
      "MAE: 3.7711599513447256\n",
      "MSE: 24.157626367620978\n",
      "RMSE: 4.915040830717582\n",
      "R Squared: 0.6627653295633458\n"
     ]
    },
    {
     "data": {
      "text/html": [
       "<div>\n",
       "<style scoped>\n",
       "    .dataframe tbody tr th:only-of-type {\n",
       "        vertical-align: middle;\n",
       "    }\n",
       "\n",
       "    .dataframe tbody tr th {\n",
       "        vertical-align: top;\n",
       "    }\n",
       "\n",
       "    .dataframe thead th {\n",
       "        text-align: right;\n",
       "    }\n",
       "</style>\n",
       "<table border=\"1\" class=\"dataframe\">\n",
       "  <thead>\n",
       "    <tr style=\"text-align: right;\">\n",
       "      <th></th>\n",
       "      <th>Actual Value</th>\n",
       "      <th>RandomForestRegressor Prediction</th>\n",
       "    </tr>\n",
       "  </thead>\n",
       "  <tbody>\n",
       "    <tr>\n",
       "      <th>0</th>\n",
       "      <td>20.5</td>\n",
       "      <td>16.165145</td>\n",
       "    </tr>\n",
       "    <tr>\n",
       "      <th>1</th>\n",
       "      <td>5.6</td>\n",
       "      <td>12.318675</td>\n",
       "    </tr>\n",
       "    <tr>\n",
       "      <th>2</th>\n",
       "      <td>13.4</td>\n",
       "      <td>12.640325</td>\n",
       "    </tr>\n",
       "    <tr>\n",
       "      <th>3</th>\n",
       "      <td>12.6</td>\n",
       "      <td>16.561760</td>\n",
       "    </tr>\n",
       "    <tr>\n",
       "      <th>4</th>\n",
       "      <td>21.2</td>\n",
       "      <td>30.539810</td>\n",
       "    </tr>\n",
       "    <tr>\n",
       "      <th>...</th>\n",
       "      <td>...</td>\n",
       "      <td>...</td>\n",
       "    </tr>\n",
       "    <tr>\n",
       "      <th>97</th>\n",
       "      <td>25.0</td>\n",
       "      <td>22.725723</td>\n",
       "    </tr>\n",
       "    <tr>\n",
       "      <th>98</th>\n",
       "      <td>19.5</td>\n",
       "      <td>16.081323</td>\n",
       "    </tr>\n",
       "    <tr>\n",
       "      <th>99</th>\n",
       "      <td>19.9</td>\n",
       "      <td>16.561760</td>\n",
       "    </tr>\n",
       "    <tr>\n",
       "      <th>100</th>\n",
       "      <td>15.4</td>\n",
       "      <td>13.021295</td>\n",
       "    </tr>\n",
       "    <tr>\n",
       "      <th>101</th>\n",
       "      <td>21.7</td>\n",
       "      <td>20.557638</td>\n",
       "    </tr>\n",
       "  </tbody>\n",
       "</table>\n",
       "<p>102 rows × 2 columns</p>\n",
       "</div>"
      ],
      "text/plain": [
       "     Actual Value  RandomForestRegressor Prediction\n",
       "0            20.5                         16.165145\n",
       "1             5.6                         12.318675\n",
       "2            13.4                         12.640325\n",
       "3            12.6                         16.561760\n",
       "4            21.2                         30.539810\n",
       "..            ...                               ...\n",
       "97           25.0                         22.725723\n",
       "98           19.5                         16.081323\n",
       "99           19.9                         16.561760\n",
       "100          15.4                         13.021295\n",
       "101          21.7                         20.557638\n",
       "\n",
       "[102 rows x 2 columns]"
      ]
     },
     "execution_count": 14,
     "metadata": {},
     "output_type": "execute_result"
    }
   ],
   "source": [
    "rfr_model = RandomForestRegressor(n_estimators=111, max_leaf_nodes=16,)\n",
    "rfr_model.fit(X_train, y_train)\n",
    "\n",
    "rfr_predictions = rfr_model.predict(X_test)\n",
    "\n",
    "print_evaluation_metrics(y_test, rfr_predictions)\n",
    "\n",
    "pd.DataFrame({\n",
    "    'Actual Value': y_test,\n",
    "    'RandomForestRegressor Prediction': rfr_predictions,\n",
    "})"
   ]
  },
  {
   "cell_type": "code",
   "execution_count": 15,
   "metadata": {
    "scrolled": true
   },
   "outputs": [
    {
     "data": {
      "image/png": "[encoded data removed]",
      "text/plain": [
       "<Figure size 792x360 with 1 Axes>"
      ]
     },
     "metadata": {
      "needs_background": "light"
     },
     "output_type": "display_data"
    }
   ],
   "source": [
    "plt.figure(figsize=(11, 5))\n",
    "\n",
    "plt.title(\"DecisionTreeRegressor\")\n",
    "plt.xlabel('% lower status of the population')\n",
    "plt.ylabel('Median value')\n",
    "\n",
    "plt.scatter(x = X, y = y, color=ORANGE)\n",
    "values = np.column_stack((X_test, rfr_predictions))\n",
    "values = values[values[:,0].argsort()]\n",
    "plt.plot(values[:,0], values[:,1], color=GRAY)\n",
    "plt.show()"
   ]
  }
 ],
 "metadata": {
  "kernelspec": {
   "display_name": "Python 3",
   "language": "python",
   "name": "python3"
  },
  "language_info": {
   "codemirror_mode": {
    "name": "ipython",
    "version": 3
   },
   "file_extension": ".py",
   "mimetype": "text/x-python",
   "name": "python",
   "nbconvert_exporter": "python",
   "pygments_lexer": "ipython3",
   "version": "3.7.6"
  }
 },
 "nbformat": 4,
 "nbformat_minor": 4
}
