{
 "cells": [
  {
   "cell_type": "code",
   "execution_count": 5,
   "metadata": {},
   "outputs": [],
   "source": [
    "import torch\n",
    "import numpy as np"
   ]
  },
  {
   "cell_type": "markdown",
   "metadata": {},
   "source": [
    "## Tensors"
   ]
  },
  {
   "cell_type": "code",
   "execution_count": 3,
   "metadata": {},
   "outputs": [
    {
     "name": "stdout",
     "output_type": "stream",
     "text": [
      "------ Scalar ------\n",
      "tensor(11.)\n",
      "torch.float32\n",
      "torch.Size([])\n",
      "\n",
      "\n",
      "------ Vector ------\n",
      "tensor([11, 23,  9, 33])\n",
      "torch.int64\n",
      "torch.Size([4])\n",
      "\n",
      "\n",
      "------ Matrix ------\n",
      "tensor([[ 5.,  6.],\n",
      "        [ 7.,  4.],\n",
      "        [ 9., 11.]])\n",
      "torch.float32\n",
      "torch.Size([3, 2])\n",
      "\n",
      "\n",
      "------ 3D Array ------\n",
      "tensor([[[11., 12., 13.],\n",
      "         [13., 14., 15.]],\n",
      "\n",
      "        [[15., 16., 17.],\n",
      "         [17., 18., 19.]]])\n",
      "torch.float32\n",
      "torch.Size([2, 2, 3])\n",
      "\n",
      "\n"
     ]
    }
   ],
   "source": [
    "# Scalar\n",
    "tensor_1 = torch.tensor(11.)\n",
    "print('------ Scalar ------')\n",
    "print(tensor_1)\n",
    "print(tensor_1.dtype)\n",
    "print(tensor_1.shape)\n",
    "print('\\n')\n",
    "\n",
    "# Vector\n",
    "tensor_2 = torch.tensor([11, 23, 9, 33])\n",
    "print('------ Vector ------')\n",
    "print(tensor_2)\n",
    "print(tensor_2.dtype)\n",
    "print(tensor_2.shape)\n",
    "print('\\n')\n",
    "\n",
    "# Matrix\n",
    "tensor_3 = torch.tensor([[5., 6], \n",
    "                   [7, 4], \n",
    "                   [9, 11]])\n",
    "\n",
    "print('------ Matrix ------')\n",
    "print(tensor_3)\n",
    "print(tensor_3.dtype)\n",
    "print(tensor_3.shape)\n",
    "print('\\n')\n",
    "\n",
    "# 3D Array\n",
    "tensor_4 = torch.tensor([\n",
    "    [[11, 12, 13], \n",
    "     [13, 14, 15]], \n",
    "    [[15, 16, 17], \n",
    "     [17, 18, 19.]]])\n",
    "\n",
    "print('------ 3D Array ------')\n",
    "print(tensor_4)\n",
    "print(tensor_4.dtype)\n",
    "print(tensor_4.shape)\n",
    "print('\\n')"
   ]
  },
  {
   "cell_type": "code",
   "execution_count": 4,
   "metadata": {},
   "outputs": [
    {
     "name": "stdout",
     "output_type": "stream",
     "text": [
      "tensor([[0., 0., 0.],\n",
      "        [0., 0., 0.]])\n",
      "tensor([[0., 0., 0.],\n",
      "        [0., 0., 0.]])\n",
      "tensor([[1., 1., 1.],\n",
      "        [1., 1., 1.]])\n",
      "tensor([[0.4878, 0.0805, 0.9782],\n",
      "        [0.4288, 0.4309, 0.4090]])\n"
     ]
    }
   ],
   "source": [
    "# Uninitialized (does not contain definite known values before it is used.)\n",
    "tensor = torch.empty(2, 3)\n",
    "print(tensor)\n",
    "\n",
    "# Tensor with all zeroes\n",
    "tensor = torch.zeros(2, 3)\n",
    "print(tensor)\n",
    "\n",
    "# Tensor with all ones\n",
    "tensor = torch.ones(2, 3)\n",
    "print(tensor)\n",
    "\n",
    "# Tensor with randomly initialized values\n",
    "tensor = torch.rand(2, 3)\n",
    "print(tensor)"
   ]
  },
  {
   "cell_type": "code",
   "execution_count": 6,
   "metadata": {},
   "outputs": [
    {
     "name": "stdout",
     "output_type": "stream",
     "text": [
      "[[1. 2.]\n",
      " [3. 4.]]\n",
      "\n",
      "\n",
      "tensor([[1., 2.],\n",
      "        [3., 4.]], dtype=torch.float64)\n",
      "\n",
      "\n",
      "[[1. 2.]\n",
      " [3. 4.]]\n"
     ]
    }
   ],
   "source": [
    "numpy_array = np.array([[1, 2], [3, 4.]])\n",
    "print(numpy_array)\n",
    "print('\\n')\n",
    "\n",
    "tensor = torch.from_numpy(numpy_array)\n",
    "print(tensor)\n",
    "print('\\n')\n",
    "\n",
    "re_numpy_array = tensor.numpy()\n",
    "print(re_numpy_array)"
   ]
  },
  {
   "cell_type": "markdown",
   "metadata": {},
   "source": [
    "## Tensor Operations"
   ]
  },
  {
   "cell_type": "code",
   "execution_count": 7,
   "metadata": {},
   "outputs": [
    {
     "data": {
      "text/plain": [
       "tensor(17.)"
      ]
     },
     "execution_count": 7,
     "metadata": {},
     "output_type": "execute_result"
    }
   ],
   "source": [
    "x = torch.tensor(3.)\n",
    "w = torch.tensor(4.)\n",
    "b = torch.tensor(5.)\n",
    "\n",
    "res = w*x + b\n",
    "res"
   ]
  },
  {
   "cell_type": "code",
   "execution_count": 8,
   "metadata": {},
   "outputs": [
    {
     "name": "stdout",
     "output_type": "stream",
     "text": [
      "tensor([[0.4331, 1.0239, 1.8545],\n",
      "        [0.0738, 1.0001, 1.5300]])\n",
      "tensor([[0.4331, 1.0239, 1.8545],\n",
      "        [0.0738, 1.0001, 1.5300]])\n"
     ]
    }
   ],
   "source": [
    "x = torch.rand(2, 3)\n",
    "y = torch.rand(2, 3)\n",
    "\n",
    "result1 = x + y\n",
    "result2 = torch.add(x, y)\n",
    "\n",
    "print(result1)\n",
    "print(result2)"
   ]
  },
  {
   "cell_type": "code",
   "execution_count": 9,
   "metadata": {},
   "outputs": [
    {
     "name": "stdout",
     "output_type": "stream",
     "text": [
      "tensor([[-0.5283, -1.0336, -0.9913],\n",
      "        [-0.7726, -0.3270,  0.5878],\n",
      "        [ 0.3022,  0.1859, -2.1970]]) torch.Size([3, 3])\n",
      "tensor([-0.5283, -1.0336, -0.9913, -0.7726, -0.3270,  0.5878,  0.3022,  0.1859,\n",
      "        -2.1970]) torch.Size([9])\n"
     ]
    }
   ],
   "source": [
    "tensor = torch.randn(3, 3)\n",
    "reshaped = tensor.view(9)\n",
    "\n",
    "print(tensor, tensor.size())\n",
    "print(reshaped, reshaped.size())"
   ]
  },
  {
   "cell_type": "code",
   "execution_count": 10,
   "metadata": {},
   "outputs": [
    {
     "name": "stdout",
     "output_type": "stream",
     "text": [
      "tensor([-0.6772, -0.7194,  0.4562])\n"
     ]
    }
   ],
   "source": [
    "tensor = torch.randn(3, 3)\n",
    "print(tensor[:, 1])"
   ]
  },
  {
   "cell_type": "markdown",
   "metadata": {},
   "source": [
    "## Gradients"
   ]
  },
  {
   "cell_type": "code",
   "execution_count": 19,
   "metadata": {},
   "outputs": [
    {
     "name": "stdout",
     "output_type": "stream",
     "text": [
      "tensor([-0.3928, -0.6941,  1.4670], grad_fn=<SelectBackward>)\n"
     ]
    }
   ],
   "source": [
    "tensor = torch.randn(3, 3)\n",
    "tensor = torch.autograd.Variable(tensor, requires_grad=True)\n",
    "print(tensor[:, 1])"
   ]
  },
  {
   "cell_type": "code",
   "execution_count": 20,
   "metadata": {},
   "outputs": [
    {
     "name": "stdout",
     "output_type": "stream",
     "text": [
      "tensor([[2.7186, 1.6072, 3.4084],\n",
      "        [2.6568, 1.3059, 0.5820],\n",
      "        [2.4901, 3.4670, 2.4983]], grad_fn=<AddBackward0>)\n"
     ]
    }
   ],
   "source": [
    "increased = tensor + 2\n",
    "print(increased)"
   ]
  },
  {
   "cell_type": "code",
   "execution_count": 21,
   "metadata": {},
   "outputs": [
    {
     "name": "stdout",
     "output_type": "stream",
     "text": [
      "tensor([[1.8124, 1.0715, 2.2723],\n",
      "        [1.7712, 0.8706, 0.3880],\n",
      "        [1.6600, 2.3113, 1.6655]])\n"
     ]
    }
   ],
   "source": [
    "temp = increased * increased * 3\n",
    "output = temp.mean()\n",
    "output.backward()\n",
    "\n",
    "print(tensor.grad)"
   ]
  }
 ],
 "metadata": {
  "kernelspec": {
   "display_name": "Python 3",
   "language": "python",
   "name": "python3"
  },
  "language_info": {
   "codemirror_mode": {
    "name": "ipython",
    "version": 3
   },
   "file_extension": ".py",
   "mimetype": "text/x-python",
   "name": "python",
   "nbconvert_exporter": "python",
   "pygments_lexer": "ipython3",
   "version": "3.7.6"
  }
 },
 "nbformat": 4,
 "nbformat_minor": 4
}
