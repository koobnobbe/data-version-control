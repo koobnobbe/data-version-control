{
 "cells": [
  {
   "cell_type": "code",
   "execution_count": 8,
   "metadata": {},
   "outputs": [],
   "source": [
    "import torch\n",
    "import pandas as pd\n",
    "from sklearn.model_selection import train_test_split"
   ]
  },
  {
   "cell_type": "markdown",
   "metadata": {},
   "source": [
    "## Prepare and Load Data"
   ]
  },
  {
   "cell_type": "code",
   "execution_count": 10,
   "metadata": {},
   "outputs": [],
   "source": [
    "data = pd.read_csv('./data/boston_housing.csv')\n",
    "\n",
    "X = data.drop('medv', axis=1).values\n",
    "y = data['medv'].values"
   ]
  },
  {
   "cell_type": "markdown",
   "metadata": {},
   "source": [
    "## PyTorch Linear Regression"
   ]
  },
  {
   "cell_type": "code",
   "execution_count": 11,
   "metadata": {},
   "outputs": [],
   "source": [
    "class PyTorchLinearRegression:\n",
    "    ''' Class that implemnets Multiple Linear Regression with PyTorch'''\n",
    "    def __init__(self, num_of_features):\n",
    "        self.w = torch.zeros(num_of_features, requires_grad=True)\n",
    "        self.b = torch.zeros(1, requires_grad=True)\n",
    "        self.learning_rate = 0.000001\n",
    "    \n",
    "    def _model(self, X):\n",
    "        return X @ self.w.t() + self.b\n",
    "    \n",
    "    def _mse(self, pred, real):\n",
    "        difference = pred - real\n",
    "        return torch.sum(difference * difference) / difference.numel()\n",
    "    \n",
    "    def fit(self, X, y, epochs):\n",
    "        X = torch.from_numpy(X).float()\n",
    "        y = torch.from_numpy(y).float()\n",
    "        \n",
    "        for i in range(epochs):\n",
    "            predictions = self._model(X)\n",
    "            loss = self._mse(predictions, y)\n",
    "\n",
    "            if i % 1000 == 0:\n",
    "                print(f'Epoch: {i} - Loss: {loss}')\n",
    "\n",
    "            loss.backward()\n",
    "            with torch.no_grad():\n",
    "                self.w -= self.w.grad * self.learning_rate\n",
    "                self.b -= self.b.grad * self.learning_rate\n",
    "                self.w.grad.zero_()\n",
    "                self.b.grad.zero_()\n",
    "    \n",
    "    def predict(self, X):\n",
    "        X = torch.from_numpy(X).float()\n",
    "        return self._model(X)"
   ]
  },
  {
   "cell_type": "code",
   "execution_count": 13,
   "metadata": {},
   "outputs": [
    {
     "name": "stdout",
     "output_type": "stream",
     "text": [
      "Epoch: 0 - Loss: 608.6907958984375\n",
      "Epoch: 1000 - Loss: 74.8147201538086\n",
      "Epoch: 2000 - Loss: 71.41828918457031\n",
      "Epoch: 3000 - Loss: 69.01657104492188\n",
      "Epoch: 4000 - Loss: 67.03199768066406\n",
      "Epoch: 5000 - Loss: 65.30267333984375\n",
      "Epoch: 6000 - Loss: 63.767539978027344\n",
      "Epoch: 7000 - Loss: 62.3945198059082\n",
      "Epoch: 8000 - Loss: 61.1615104675293\n",
      "Epoch: 9000 - Loss: 60.050819396972656\n"
     ]
    },
    {
     "data": {
      "text/html": [
       "<div>\n",
       "<style scoped>\n",
       "    .dataframe tbody tr th:only-of-type {\n",
       "        vertical-align: middle;\n",
       "    }\n",
       "\n",
       "    .dataframe tbody tr th {\n",
       "        vertical-align: top;\n",
       "    }\n",
       "\n",
       "    .dataframe thead th {\n",
       "        text-align: right;\n",
       "    }\n",
       "</style>\n",
       "<table border=\"1\" class=\"dataframe\">\n",
       "  <thead>\n",
       "    <tr style=\"text-align: right;\">\n",
       "      <th></th>\n",
       "      <th>Actual Value</th>\n",
       "      <th>Torch Prediction</th>\n",
       "    </tr>\n",
       "  </thead>\n",
       "  <tbody>\n",
       "    <tr>\n",
       "      <th>0</th>\n",
       "      <td>20.5</td>\n",
       "      <td>20.263393</td>\n",
       "    </tr>\n",
       "    <tr>\n",
       "      <th>1</th>\n",
       "      <td>5.6</td>\n",
       "      <td>18.881317</td>\n",
       "    </tr>\n",
       "    <tr>\n",
       "      <th>2</th>\n",
       "      <td>13.4</td>\n",
       "      <td>1.071071</td>\n",
       "    </tr>\n",
       "    <tr>\n",
       "      <th>3</th>\n",
       "      <td>12.6</td>\n",
       "      <td>23.273228</td>\n",
       "    </tr>\n",
       "    <tr>\n",
       "      <th>4</th>\n",
       "      <td>21.2</td>\n",
       "      <td>21.131359</td>\n",
       "    </tr>\n",
       "    <tr>\n",
       "      <th>...</th>\n",
       "      <td>...</td>\n",
       "      <td>...</td>\n",
       "    </tr>\n",
       "    <tr>\n",
       "      <th>97</th>\n",
       "      <td>25.0</td>\n",
       "      <td>16.815962</td>\n",
       "    </tr>\n",
       "    <tr>\n",
       "      <th>98</th>\n",
       "      <td>19.5</td>\n",
       "      <td>22.625612</td>\n",
       "    </tr>\n",
       "    <tr>\n",
       "      <th>99</th>\n",
       "      <td>19.9</td>\n",
       "      <td>23.244698</td>\n",
       "    </tr>\n",
       "    <tr>\n",
       "      <th>100</th>\n",
       "      <td>15.4</td>\n",
       "      <td>18.252171</td>\n",
       "    </tr>\n",
       "    <tr>\n",
       "      <th>101</th>\n",
       "      <td>21.7</td>\n",
       "      <td>21.686295</td>\n",
       "    </tr>\n",
       "  </tbody>\n",
       "</table>\n",
       "<p>102 rows × 2 columns</p>\n",
       "</div>"
      ],
      "text/plain": [
       "     Actual Value  Torch Prediction\n",
       "0            20.5         20.263393\n",
       "1             5.6         18.881317\n",
       "2            13.4          1.071071\n",
       "3            12.6         23.273228\n",
       "4            21.2         21.131359\n",
       "..            ...               ...\n",
       "97           25.0         16.815962\n",
       "98           19.5         22.625612\n",
       "99           19.9         23.244698\n",
       "100          15.4         18.252171\n",
       "101          21.7         21.686295\n",
       "\n",
       "[102 rows x 2 columns]"
      ]
     },
     "execution_count": 13,
     "metadata": {},
     "output_type": "execute_result"
    }
   ],
   "source": [
    "X_train, X_test, y_train, y_test = train_test_split(X, y, test_size=0.2, random_state=33)\n",
    "\n",
    "torch_model = PyTorchLinearRegression(X_train.shape[1])\n",
    "torch_model.fit(X_train, y_train, 10000)\n",
    "\n",
    "torch_predictions = torch_model.predict(X_test)\n",
    "torch_predictions = torch_predictions.detach().numpy()\n",
    "pd.DataFrame({\n",
    "    'Actual Value': y_test,\n",
    "    'Torch Prediction': torch_predictions,\n",
    "})"
   ]
  },
  {
   "cell_type": "code",
   "execution_count": null,
   "metadata": {},
   "outputs": [],
   "source": []
  }
 ],
 "metadata": {
  "kernelspec": {
   "display_name": "Python 3",
   "language": "python",
   "name": "python3"
  },
  "language_info": {
   "codemirror_mode": {
    "name": "ipython",
    "version": 3
   },
   "file_extension": ".py",
   "mimetype": "text/x-python",
   "name": "python",
   "nbconvert_exporter": "python",
   "pygments_lexer": "ipython3",
   "version": "3.7.6"
  }
 },
 "nbformat": 4,
 "nbformat_minor": 4
}
